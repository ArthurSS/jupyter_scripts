{
 "cells": [
  {
   "cell_type": "code",
   "execution_count": 58,
   "metadata": {
    "collapsed": false
   },
   "outputs": [
    {
     "name": "stdout",
     "output_type": "stream",
     "text": [
      "['Mr. Blonde', 'Mr. Blonde', 'Mr. Orange']\n",
      "3\n",
      "120\n"
     ]
    }
   ],
   "source": [
    "#encoding:utf-8\n",
    "import random\n",
    "\n",
    "#map\n",
    "names = ['Mary', 'Isla', 'Sam']\n",
    "code_names = ['Mr. Pink', 'Mr. Orange', 'Mr. Blonde']\n",
    "print(map(lambda x: random.choice(code_names), names))\n",
    "\n",
    "#reduce\n",
    "sentences = ['Mary read a story to Sam and Isla.',\n",
    "             'Isla cuddled Sam.',\n",
    "             'Sam chortled.']\n",
    "print(reduce(lambda a,x: a+x.count('Sam'), sentences, 0))\n",
    "\n",
    "#reduce\n",
    "people = [{'name': 'Mary', 'height': 160},\n",
    "          {'name': 'Isla', 'height': 80},\n",
    "          {'name': 'Sam'}]\n",
    "height_list = map(lambda x:x['height'], filter(lambda x: 'height' in x ,people))\n",
    "if len(height_list)>0:\n",
    "    print(reduce(lambda a,x: a+x, height_list, 0)/len(height_list))"
   ]
  },
  {
   "cell_type": "code",
   "execution_count": 138,
   "metadata": {
    "collapsed": false
   },
   "outputs": [
    {
     "name": "stdout",
     "output_type": "stream",
     "text": [
      "\n",
      "\n",
      "-\n",
      "-\n",
      "-\n",
      "\n",
      "\n",
      "-\n",
      "-\n",
      "--\n",
      "\n",
      "\n",
      "--\n",
      "--\n",
      "--\n",
      "\n",
      "\n",
      "---\n",
      "---\n",
      "---\n",
      "\n",
      "\n",
      "---\n",
      "----\n",
      "---\n",
      "\n",
      "\n",
      "----\n",
      "----\n",
      "----\n"
     ]
    }
   ],
   "source": [
    "#encoding:utf-8\n",
    "\n",
    "from random import random\n",
    "\n",
    "#functional programming:Remove state\n",
    "\n",
    "def race(state):\n",
    "    print_position(state['position'])\n",
    "    new_state = run_one_step(state)\n",
    "    if new_state['time'] >= 0:\n",
    "        race(new_state)\n",
    "\n",
    "def print_position(position):\n",
    "    print('\\n')\n",
    "    print('\\n'.join(map(lambda x:x*'-', position)))\n",
    "\n",
    "def move_car_position(position):\n",
    "    return map(lambda x:x+1 if random()>0.5 else x, position)\n",
    "\n",
    "def run_one_step(state):\n",
    "    return {'time':state['time']-1, 'position':move_car_position(state['position'])}\n",
    "\n",
    "race({'position':[1,1,1], 'time':5})"
   ]
  },
  {
   "cell_type": "code",
   "execution_count": 139,
   "metadata": {
    "collapsed": false
   },
   "outputs": [
    {
     "name": "stdout",
     "output_type": "stream",
     "text": [
      "[{'active': False, 'country': 'Canada', 'name': 'Sunset Rubdown'}, {'active': False, 'country': 'Canada', 'name': 'Women'}, {'active': True, 'country': 'Canada', 'name': 'A Silver Mt Zion'}]\n"
     ]
    }
   ],
   "source": [
    "#encoding:utf-8\n",
    "\n",
    "bands = [{'name': 'sunset rubdown', 'country': 'UK', 'active': False},\\\n",
    "         {'name': 'women', 'country': 'Germany', 'active': False},\\\n",
    "         {'name': 'a silver mt. zion', 'country': 'Spain', 'active': True}]\n",
    "\n",
    "def assoc(dict_, key, value):\n",
    "    from copy import deepcopy\n",
    "    d = deepcopy(dict_)\n",
    "    d[key] = value\n",
    "    return d\n",
    "\n",
    "def set_canada_as_country(band):\n",
    "    return assoc(band, 'country', 'Canada')\n",
    "\n",
    "def strip_punctuation_from_name(band):\n",
    "    return assoc(band, 'name', band['name'].replace('.', ''))\n",
    "\n",
    "def capitalize_names(band):\n",
    "    return assoc(band, 'name', band['name'].title())\n",
    "\n",
    "def pipeline_each(bands, funcs):\n",
    "    return reduce(lambda a, x: map(x, a),\\\n",
    "                 funcs,\\\n",
    "                 bands)\n",
    "\n",
    "print pipeline_each(bands, [set_canada_as_country,\\\n",
    "                            strip_punctuation_from_name,\\\n",
    "                            capitalize_names])"
   ]
  },
  {
   "cell_type": "code",
   "execution_count": 145,
   "metadata": {
    "collapsed": false
   },
   "outputs": [
    {
     "name": "stdout",
     "output_type": "stream",
     "text": [
      "[{'active': False, 'country': 'Canada', 'name': 'Sunset Rubdown'}, {'active': False, 'country': 'Canada', 'name': 'Women'}, {'active': True, 'country': 'Canada', 'name': 'A Silver Mt Zion'}]\n"
     ]
    }
   ],
   "source": [
    "#encoding:utf-8\n",
    "\n",
    "bands = [{'name': 'sunset rubdown', 'country': 'UK', 'active': False},\\\n",
    "         {'name': 'women', 'country': 'Germany', 'active': False},\\\n",
    "         {'name': 'a silver mt. zion', 'country': 'Spain', 'active': True}]\n",
    "\n",
    "def assoc(dict_, key, value):\n",
    "    from copy import deepcopy\n",
    "    d = deepcopy(dict_)\n",
    "    d[key] = value\n",
    "    return d\n",
    "\n",
    "def call(func, key):\n",
    "    def modify(bands):\n",
    "        return assoc(bands, key, func(bands[key]))\n",
    "    return modify\n",
    "\n",
    "def pipeline_each(bands, funcs):\n",
    "    return reduce(lambda a, x: map(x, a),\\\n",
    "                 funcs,\\\n",
    "                 bands)\n",
    "\n",
    "print pipeline_each(bands, [call(lambda x: 'Canada', 'country'),\\\n",
    "                            call(lambda x: x.replace('.', ''), 'name'),\\\n",
    "                            call(str.title, 'name')])"
   ]
  }
 ],
 "metadata": {
  "kernelspec": {
   "display_name": "Python 2",
   "language": "python",
   "name": "python2"
  },
  "language_info": {
   "codemirror_mode": {
    "name": "ipython",
    "version": 2
   },
   "file_extension": ".py",
   "mimetype": "text/x-python",
   "name": "python",
   "nbconvert_exporter": "python",
   "pygments_lexer": "ipython2",
   "version": "2.7.11"
  }
 },
 "nbformat": 4,
 "nbformat_minor": 2
}
