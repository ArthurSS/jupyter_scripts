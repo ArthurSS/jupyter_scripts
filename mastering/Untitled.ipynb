{
 "cells": [
  {
   "cell_type": "code",
   "execution_count": 5,
   "metadata": {
    "collapsed": false
   },
   "outputs": [
    {
     "name": "stdout",
     "output_type": "stream",
     "text": [
      "2\n",
      "2\n"
     ]
    }
   ],
   "source": [
    "# encoding:utf-8\n",
    "spam = 1\n",
    "def eggs(spam):\n",
    "    spam+=1\n",
    "    print(spam)\n",
    "eggs(spam)\n",
    "\n",
    "class spam(object):\n",
    "    def __init__(self):\n",
    "        self.spam = 1\n",
    "    def egg(self):\n",
    "        self.spam += 1\n",
    "        print(self.spam)\n",
    "spam = spam()\n",
    "spam.egg()"
   ]
  }
 ],
 "metadata": {
  "kernelspec": {
   "display_name": "Python 2",
   "language": "python",
   "name": "python2"
  },
  "language_info": {
   "codemirror_mode": {
    "name": "ipython",
    "version": 2
   },
   "file_extension": ".py",
   "mimetype": "text/x-python",
   "name": "python",
   "nbconvert_exporter": "python",
   "pygments_lexer": "ipython2",
   "version": "2.7.11"
  }
 },
 "nbformat": 4,
 "nbformat_minor": 2
}
