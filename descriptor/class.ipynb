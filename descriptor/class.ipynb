{
 "cells": [
  {
   "cell_type": "code",
   "execution_count": 8,
   "metadata": {},
   "outputs": [
    {
     "name": "stdout",
     "output_type": "stream",
     "text": [
      "['__class__', '__delattr__', '__dict__', '__doc__', '__format__', '__getattribute__', '__hash__', '__init__', '__module__', '__new__', '__reduce__', '__reduce_ex__', '__repr__', '__setattr__', '__sizeof__', '__str__', '__subclasshook__', '__weakref__']\n",
      "<class '__main__.A'>\n",
      "{'value': 2}\n"
     ]
    }
   ],
   "source": [
    "#encoding:utf8\n",
    "\n",
    "class A(object):\n",
    "    def __init__(self, val=None):\n",
    "        self.value = val\n",
    "\n",
    "print(dir(A))\n",
    "a = object.__new__(A)\n",
    "\n",
    "A.__init__(a, 1)\n",
    "a.__init__(2)\n",
    "print(type(a))\n",
    "print(a.__dict__)"
   ]
  }
 ],
 "metadata": {
  "kernelspec": {
   "display_name": "Python 2",
   "language": "python",
   "name": "python2"
  },
  "language_info": {
   "codemirror_mode": {
    "name": "ipython",
    "version": 2
   },
   "file_extension": ".py",
   "mimetype": "text/x-python",
   "name": "python",
   "nbconvert_exporter": "python",
   "pygments_lexer": "ipython2",
   "version": "2.7.13"
  }
 },
 "nbformat": 4,
 "nbformat_minor": 2
}
