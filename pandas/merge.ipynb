{
 "cells": [
  {
   "cell_type": "code",
   "execution_count": 69,
   "metadata": {
    "collapsed": false,
    "scrolled": false
   },
   "outputs": [
    {
     "name": "stdout",
     "output_type": "stream",
     "text": [
      "                 oSymbol  x1  x2 fSymbol\n",
      "m1703-C-1000  m1703-1000   1   2   m1703\n",
      "m1703-C-2000  m1703-2000   3   4   m1703\n",
      "m1705-C-1000  m1705-1000   5   6   m1705\n",
      "m1705-C-2000  m1705-2000   7   8   m1705\n",
      "                 oSymbol  x1  x2 fSymbol\n",
      "m1703-P-1000  m1703-1000  11  12   m1703\n",
      "m1703-P-2000  m1703-2000  13  14   m1703\n",
      "m1705-P-1000  m1705-1000  15  16   m1705\n",
      "m1705-P-2000  m1705-2000  17  18   m1705\n",
      "                 oSymbol  x1_x  x2_x fSymbol_x  x1_y  x2_y fSymbol_y\n",
      "m1703-C-1000  m1703-1000     1     2     m1703    11    12     m1703\n",
      "m1703-C-2000  m1703-2000     3     4     m1703    13    14     m1703\n",
      "m1705-C-1000  m1705-1000     5     6     m1705    15    16     m1705\n",
      "m1705-C-2000  m1705-2000     7     8     m1705    17    18     m1705\n",
      "      fSymbol  x1  x2\n",
      "m1701   m1701  21  22\n",
      "m1703   m1703  23  24\n",
      "m1705   m1705  25  26\n",
      "                 oSymbol  x1_x  x2_x fSymbol_x  x1_y  x2_y fSymbol_y fSymbol  \\\n",
      "m1703-C-1000  m1703-1000     1     2     m1703    11    12     m1703   m1703   \n",
      "m1703-C-2000  m1703-2000     3     4     m1703    13    14     m1703   m1703   \n",
      "m1705-C-1000  m1705-1000     5     6     m1705    15    16     m1705   m1705   \n",
      "m1705-C-2000  m1705-2000     7     8     m1705    17    18     m1705   m1705   \n",
      "\n",
      "              x1  x2  \n",
      "m1703-C-1000  23  24  \n",
      "m1703-C-2000  23  24  \n",
      "m1705-C-1000  25  26  \n",
      "m1705-C-2000  25  26  \n"
     ]
    }
   ],
   "source": [
    "# encoding:utf-8\n",
    "import numpy as np\n",
    "import pandas as pd\n",
    "import time\n",
    "\n",
    "df1 = pd.DataFrame([['m1703-1000',1,2,'m1703'],['m1703-2000',3,4,'m1703'], \\\n",
    "                    ['m1705-1000',5,6,'m1705'], ['m1705-2000',7,8,'m1705']],columns=['oSymbol','x1','x2','fSymbol'], \\\n",
    "                    index=['m1703-C-1000','m1703-C-2000','m1705-C-1000','m1705-C-2000'])\n",
    "\n",
    "df2 = pd.DataFrame([['m1703-1000',11,12,'m1703'],['m1703-2000',13,14,'m1703'], \\\n",
    "                    ['m1705-1000',15,16,'m1705'], ['m1705-2000',17,18,'m1705']],columns=['oSymbol','x1','x2','fSymbol'], \\\n",
    "                    index=['m1703-P-1000','m1703-P-2000','m1705-P-1000','m1705-P-2000'])\n",
    "\n",
    "df3 = pd.DataFrame([['m1701',21,22],['m1703',23,24],['m1705',25,26]],columns=['fSymbol','x1','x2'], \\\n",
    "                    index=['m1701','m1703','m1705'])\n",
    "\n",
    "print(df1)\n",
    "print(df2)\n",
    "tdf = pd.merge(df1, df2, on='oSymbol', how='inner', right_index=True, left_index=False, suffixes=['_x','_y'])\n",
    "print(tdf)\n",
    "print(df3)\n",
    "tdf = pd.merge(tdf, df3, left_on='fSymbol_x', right_on='fSymbol', how='inner', right_index=True, suffixes=['', '_f'])\n",
    "print(tdf)"
   ]
  },
  {
   "cell_type": "code",
   "execution_count": 3,
   "metadata": {
    "collapsed": false
   },
   "outputs": [
    {
     "name": "stdout",
     "output_type": "stream",
     "text": [
      "所有使用时间: 0.029860 s\n",
      "             askPrice1_C bidPrice1_C askVolume1_C bidVolume1_C spread_C  \\\n",
      "m1705-C-2450         775         774          578          190        1   \n",
      "m1705-C-2600         686         684            4           14        2   \n",
      "m1705-C-2650       668.5       666.5            1           15        2   \n",
      "m1705-C-2700       635.5         634            1            7      1.5   \n",
      "m1705-C-2800         599         597            2           14        2   \n",
      "\n",
      "             lastPrice_C volume_C openInterest_C futureSymbol_C vtType_C  \\\n",
      "m1705-C-2450         774    68954         243228          m1705        C   \n",
      "m1705-C-2600         684     1724          29866          m1705        C   \n",
      "m1705-C-2650         667      880          47510          m1705        C   \n",
      "m1705-C-2700       635.5     1190          38220          m1705        C   \n",
      "m1705-C-2800         597     1168          47398          m1705        C   \n",
      "\n",
      "                 ...      openInterest futureSymbol vtType strikePrice  \\\n",
      "m1705-C-2450     ...            300404        m1705      F         NaN   \n",
      "m1705-C-2600     ...            300404        m1705      F         NaN   \n",
      "m1705-C-2650     ...            300404        m1705      F         NaN   \n",
      "m1705-C-2700     ...            300404        m1705      F         NaN   \n",
      "m1705-C-2800     ...            300404        m1705      F         NaN   \n",
      "\n",
      "             vtSymbol oSymbol_F  term benchMark carraySpace reverseSpace  \n",
      "m1705-C-2450    m1705       NaN  0.28       NaN       95.32       -131.5  \n",
      "m1705-C-2600    m1705       NaN  0.28       NaN       75.98         -120  \n",
      "m1705-C-2650    m1705       NaN  0.28       NaN        96.7         -141  \n",
      "m1705-C-2700    m1705       NaN  0.28       NaN       77.92       -120.5  \n",
      "m1705-C-2800    m1705       NaN  0.28       NaN       86.36         -133  \n",
      "\n",
      "[5 rows x 46 columns]\n",
      "Empty DataFrame\n",
      "Columns: [askPrice1_C, bidPrice1_C, askVolume1_C, bidVolume1_C, spread_C, lastPrice_C, volume_C, openInterest_C, futureSymbol_C, vtType_C, strikePrice_C, vtSymbol_C, oSymbol, term_C, benchMark_C, askPrice1_P, bidPrice1_P, askVolume1_P, bidVolume1_P, spread_P, lastPrice_P, volume_P, openInterest_P, futureSymbol_P, vtType_P, strikePrice_P, vtSymbol_P, term_P, benchMark_P, askPrice1, bidPrice1, askVolume1, bidVolume1, spread, lastPrice, volume, openInterest, futureSymbol, vtType, strikePrice, vtSymbol, oSymbol_F, term, benchMark, carraySpace, reverseSpace]\n",
      "Index: []\n",
      "\n",
      "[0 rows x 46 columns]\n"
     ]
    },
    {
     "ename": "ValueError",
     "evalue": "cannot set a frame with no defined index and a scalar",
     "output_type": "error",
     "traceback": [
      "\u001b[0;31m---------------------------------------------------------------------------\u001b[0m",
      "\u001b[0;31mValueError\u001b[0m                                Traceback (most recent call last)",
      "\u001b[0;32m<ipython-input-3-8667e0946b85>\u001b[0m in \u001b[0;36m<module>\u001b[0;34m()\u001b[0m\n\u001b[1;32m     43\u001b[0m \u001b[0mcResult\u001b[0m\u001b[1;33m.\u001b[0m\u001b[0mloc\u001b[0m\u001b[1;33m[\u001b[0m\u001b[1;33m:\u001b[0m\u001b[1;33m,\u001b[0m \u001b[1;34m'minVolume'\u001b[0m\u001b[1;33m]\u001b[0m \u001b[1;33m=\u001b[0m \u001b[0mcResult\u001b[0m\u001b[1;33m.\u001b[0m\u001b[0mloc\u001b[0m\u001b[1;33m[\u001b[0m\u001b[1;33m:\u001b[0m\u001b[1;33m,\u001b[0m \u001b[1;33m[\u001b[0m\u001b[1;34m'minVolume'\u001b[0m\u001b[1;33m,\u001b[0m \u001b[1;34m'bidVolume1_C'\u001b[0m\u001b[1;33m,\u001b[0m \u001b[1;34m'askVolume1_P'\u001b[0m\u001b[1;33m,\u001b[0m \u001b[1;34m'askVolume1'\u001b[0m\u001b[1;33m]\u001b[0m\u001b[1;33m]\u001b[0m\u001b[1;33m.\u001b[0m\u001b[0mmin\u001b[0m\u001b[1;33m(\u001b[0m\u001b[0maxis\u001b[0m\u001b[1;33m=\u001b[0m\u001b[1;36m1\u001b[0m\u001b[1;33m)\u001b[0m\u001b[1;33m\u001b[0m\u001b[0m\n\u001b[1;32m     44\u001b[0m \u001b[1;33m\u001b[0m\u001b[0m\n\u001b[0;32m---> 45\u001b[0;31m \u001b[0mpResult\u001b[0m\u001b[1;33m.\u001b[0m\u001b[0mloc\u001b[0m\u001b[1;33m[\u001b[0m\u001b[1;33m:\u001b[0m\u001b[1;33m,\u001b[0m \u001b[1;34m'minVolume'\u001b[0m\u001b[1;33m]\u001b[0m \u001b[1;33m=\u001b[0m \u001b[1;36m3\u001b[0m\u001b[1;33m\u001b[0m\u001b[0m\n\u001b[0m\u001b[1;32m     46\u001b[0m \u001b[0mpResult\u001b[0m\u001b[1;33m.\u001b[0m\u001b[0mloc\u001b[0m\u001b[1;33m[\u001b[0m\u001b[1;33m:\u001b[0m\u001b[1;33m,\u001b[0m \u001b[1;34m'minVolume'\u001b[0m\u001b[1;33m]\u001b[0m \u001b[1;33m=\u001b[0m \u001b[0mpResult\u001b[0m\u001b[1;33m.\u001b[0m\u001b[0mloc\u001b[0m\u001b[1;33m[\u001b[0m\u001b[1;33m:\u001b[0m\u001b[1;33m,\u001b[0m \u001b[1;33m[\u001b[0m\u001b[1;34m'bidVolume1'\u001b[0m\u001b[1;33m,\u001b[0m \u001b[1;34m'bidVolume1_P'\u001b[0m\u001b[1;33m,\u001b[0m \u001b[1;34m'askVolume1_C'\u001b[0m\u001b[1;33m]\u001b[0m\u001b[1;33m]\u001b[0m\u001b[1;33m.\u001b[0m\u001b[0mmin\u001b[0m\u001b[1;33m(\u001b[0m\u001b[0maxis\u001b[0m\u001b[1;33m=\u001b[0m\u001b[1;36m1\u001b[0m\u001b[1;33m)\u001b[0m\u001b[1;33m\u001b[0m\u001b[0m\n",
      "\u001b[0;32mf:\\python\\environment\\vn.py\\lib\\site-packages\\pandas\\core\\indexing.pyc\u001b[0m in \u001b[0;36m__setitem__\u001b[0;34m(self, key, value)\u001b[0m\n\u001b[1;32m    138\u001b[0m             \u001b[0mkey\u001b[0m \u001b[1;33m=\u001b[0m \u001b[0mcom\u001b[0m\u001b[1;33m.\u001b[0m\u001b[0m_apply_if_callable\u001b[0m\u001b[1;33m(\u001b[0m\u001b[0mkey\u001b[0m\u001b[1;33m,\u001b[0m \u001b[0mself\u001b[0m\u001b[1;33m.\u001b[0m\u001b[0mobj\u001b[0m\u001b[1;33m)\u001b[0m\u001b[1;33m\u001b[0m\u001b[0m\n\u001b[1;32m    139\u001b[0m         \u001b[0mindexer\u001b[0m \u001b[1;33m=\u001b[0m \u001b[0mself\u001b[0m\u001b[1;33m.\u001b[0m\u001b[0m_get_setitem_indexer\u001b[0m\u001b[1;33m(\u001b[0m\u001b[0mkey\u001b[0m\u001b[1;33m)\u001b[0m\u001b[1;33m\u001b[0m\u001b[0m\n\u001b[0;32m--> 140\u001b[0;31m         \u001b[0mself\u001b[0m\u001b[1;33m.\u001b[0m\u001b[0m_setitem_with_indexer\u001b[0m\u001b[1;33m(\u001b[0m\u001b[0mindexer\u001b[0m\u001b[1;33m,\u001b[0m \u001b[0mvalue\u001b[0m\u001b[1;33m)\u001b[0m\u001b[1;33m\u001b[0m\u001b[0m\n\u001b[0m\u001b[1;32m    141\u001b[0m \u001b[1;33m\u001b[0m\u001b[0m\n\u001b[1;32m    142\u001b[0m     \u001b[1;32mdef\u001b[0m \u001b[0m_has_valid_type\u001b[0m\u001b[1;33m(\u001b[0m\u001b[0mself\u001b[0m\u001b[1;33m,\u001b[0m \u001b[0mk\u001b[0m\u001b[1;33m,\u001b[0m \u001b[0maxis\u001b[0m\u001b[1;33m)\u001b[0m\u001b[1;33m:\u001b[0m\u001b[1;33m\u001b[0m\u001b[0m\n",
      "\u001b[0;32mf:\\python\\environment\\vn.py\\lib\\site-packages\\pandas\\core\\indexing.pyc\u001b[0m in \u001b[0;36m_setitem_with_indexer\u001b[0;34m(self, indexer, value)\u001b[0m\n\u001b[1;32m    288\u001b[0m                         \u001b[1;32mif\u001b[0m \u001b[0many\u001b[0m\u001b[1;33m(\u001b[0m\u001b[1;33m[\u001b[0m\u001b[1;32mnot\u001b[0m \u001b[0ml\u001b[0m \u001b[1;32mfor\u001b[0m \u001b[0ml\u001b[0m \u001b[1;32min\u001b[0m \u001b[0mlen_non_info_axes\u001b[0m\u001b[1;33m]\u001b[0m\u001b[1;33m)\u001b[0m\u001b[1;33m:\u001b[0m\u001b[1;33m\u001b[0m\u001b[0m\n\u001b[1;32m    289\u001b[0m                             \u001b[1;32mif\u001b[0m \u001b[1;32mnot\u001b[0m \u001b[0mis_list_like_indexer\u001b[0m\u001b[1;33m(\u001b[0m\u001b[0mvalue\u001b[0m\u001b[1;33m)\u001b[0m\u001b[1;33m:\u001b[0m\u001b[1;33m\u001b[0m\u001b[0m\n\u001b[0;32m--> 290\u001b[0;31m                                 raise ValueError(\"cannot set a frame with no \"\n\u001b[0m\u001b[1;32m    291\u001b[0m                                                  \"defined index and a scalar\")\n\u001b[1;32m    292\u001b[0m                             \u001b[0mself\u001b[0m\u001b[1;33m.\u001b[0m\u001b[0mobj\u001b[0m\u001b[1;33m[\u001b[0m\u001b[0mkey\u001b[0m\u001b[1;33m]\u001b[0m \u001b[1;33m=\u001b[0m \u001b[0mvalue\u001b[0m\u001b[1;33m\u001b[0m\u001b[0m\n",
      "\u001b[0;31mValueError\u001b[0m: cannot set a frame with no defined index and a scalar"
     ]
    }
   ],
   "source": [
    "# encoding:utf-8\n",
    "\n",
    "import shelve\n",
    "import numpy as np\n",
    "import pandas as pd\n",
    "import time\n",
    "\n",
    "f = shelve.open('ticksFrame.vt')\n",
    "if 'data' in f:\n",
    "\tticksFrame = f['data']\n",
    "f.close()\n",
    "ticksFrame.to_csv('ticksFrame.csv')\n",
    "\n",
    "start = time.clock()\n",
    "ticksFrame.loc[:, 'spread'] = abs(ticksFrame.loc[:, 'askPrice1'] - ticksFrame.loc[:, 'bidPrice1'])\n",
    "cTicksFrame = ticksFrame[ticksFrame.vtType == 'C']\n",
    "pTicksFrame = ticksFrame[ticksFrame.vtType == 'P']\n",
    "fTicksFrame = ticksFrame[ticksFrame.vtType == 'F']\n",
    "\n",
    "\n",
    "tdf = pd.merge(cTicksFrame, pTicksFrame, left_index=False, right_index=True, on='oSymbol', how='outer', suffixes=('_C','_P'), sort=False)\n",
    "tdf.to_csv('merge_two.csv')\n",
    "tdf = pd.merge(tdf, fTicksFrame, left_index=False, right_index=True, left_on='futureSymbol_C', right_on='futureSymbol', how='outer', suffixes=('', '_F'), sort=True)\n",
    "tdf.to_csv('merge_three.csv')\n",
    "\n",
    "#计算套利空间：按照市价买入、减去预计spread、MI、减去交易手续费、减去追单可能以及大小\n",
    "#正向套利\n",
    "tdf.loc[:, 'carraySpace'] = tdf.loc[:, 'bidPrice1_C'] - tdf.loc[:, 'askPrice1_P'] \\\n",
    "- tdf.loc[:, 'askPrice1'] + tdf.loc[:, 'benchMark_C'] - 7.0 \\\n",
    "- tdf.loc[:, 'spread_C'] - tdf.loc[:, 'spread_C'] - tdf.loc[:, 'spread_C']\n",
    "#反向套利\n",
    "tdf.loc[:, 'reverseSpace'] = tdf.loc[:, 'bidPrice1'] - tdf.loc[:, 'strikePrice_C'] \\\n",
    "- tdf.loc[:, 'askPrice1_C'] + tdf.loc[:, 'bidPrice1_P'] - 7.0 \\\n",
    "- tdf.loc[:, 'spread_C']- tdf.loc[:, 'spread_C']- tdf.loc[:, 'spread_C']\n",
    "end = time.clock()\n",
    "print u\"所有使用时间: %f s\" % (end - start)\n",
    "tdf.to_csv('merge_finish.csv')\n",
    "\n",
    "#得到套利空间结果\n",
    "allResult = tdf[(tdf.spread_C<=2) & (tdf.spread_P<=2) & (tdf.spread<=2) & \\\n",
    "            (tdf.openInterest_C>=5000) & (tdf.openInterest_P>=5000) & (tdf.openInterest>=5000)].copy()\n",
    "allResult.to_csv('allResult.csv')\n",
    "cResult = allResult[allResult.carraySpace>=20].copy()\n",
    "pResult = allResult[allResult.reverseSpace>=10].copy()\n",
    "print(cResult.head())\n",
    "print(pResult.head())\n",
    "cResult.loc[:, 'minVolume'] = 3\n",
    "cResult.loc[:, 'minVolume'] = cResult.loc[:, ['minVolume', 'bidVolume1_C', 'askVolume1_P', 'askVolume1']].min(axis=1)\n",
    "\n",
    "pResult.loc[:, 'minVolume'] = 3\n",
    "pResult.loc[:, 'minVolume'] = pResult.loc[:, ['bidVolume1', 'bidVolume1_P', 'askVolume1_C']].min(axis=1)\n"
   ]
  },
  {
   "cell_type": "code",
   "execution_count": 23,
   "metadata": {
    "collapsed": false
   },
   "outputs": [
    {
     "name": "stdout",
     "output_type": "stream",
     "text": [
      "Empty DataFrame\n",
      "Columns: [x1, x2]\n",
      "Index: []\n"
     ]
    }
   ],
   "source": [
    "# encoding:utf-8\n",
    "\n",
    "import shelve\n",
    "import numpy as np\n",
    "import pandas as pd\n",
    "import time\n",
    "\n",
    "df = pd.DataFrame([], columns=['x1', 'x2'])\n",
    "\n",
    "df.loc[:, 'x2'] =3\n",
    "print(df)"
   ]
  }
 ],
 "metadata": {
  "kernelspec": {
   "display_name": "Python 2",
   "language": "python",
   "name": "python2"
  },
  "language_info": {
   "codemirror_mode": {
    "name": "ipython",
    "version": 2
   },
   "file_extension": ".py",
   "mimetype": "text/x-python",
   "name": "python",
   "nbconvert_exporter": "python",
   "pygments_lexer": "ipython2",
   "version": "2.7.11"
  }
 },
 "nbformat": 4,
 "nbformat_minor": 0
}
