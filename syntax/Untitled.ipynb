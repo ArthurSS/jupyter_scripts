{
 "cells": [
  {
   "cell_type": "code",
   "execution_count": 12,
   "metadata": {},
   "outputs": [
    {
     "name": "stdout",
     "output_type": "stream",
     "text": [
      "1\n",
      "11\n",
      "[1, 2, 3, 4]\n",
      "this is a string\n",
      "this is a string and it is concated\n"
     ]
    }
   ],
   "source": [
    "#encoding:utf-8\n",
    "\n",
    "call = {'askPrice1':0, 'bidPrice1':None}\n",
    "print(call.get('askVolume1', 1))\n",
    "s = range(12\n",
    "         )\n",
    "s1 = [1,\n",
    "     2,\n",
    "     3\n",
    "     ,4]\n",
    "print(s[11\n",
    "       ])\n",
    "print(s1)\n",
    "print(\"this is a \"\\\n",
    "     \"string\")\n",
    "print(\"this is a \"\"string \"\"and \"\"it is concated\")"
   ]
  }
 ],
 "metadata": {
  "kernelspec": {
   "display_name": "Python 2",
   "language": "python",
   "name": "python2"
  },
  "language_info": {
   "codemirror_mode": {
    "name": "ipython",
    "version": 2
   },
   "file_extension": ".py",
   "mimetype": "text/x-python",
   "name": "python",
   "nbconvert_exporter": "python",
   "pygments_lexer": "ipython2",
   "version": "2.7.13"
  }
 },
 "nbformat": 4,
 "nbformat_minor": 2
}
