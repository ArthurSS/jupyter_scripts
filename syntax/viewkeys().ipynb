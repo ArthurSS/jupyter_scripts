{
 "cells": [
  {
   "cell_type": "code",
   "execution_count": 8,
   "metadata": {
    "collapsed": false
   },
   "outputs": [
    {
     "name": "stdout",
     "output_type": "stream",
     "text": [
      "<type 'dictionary-keyiterator'>\n",
      "<dictionary-keyiterator object at 0x032F1750>\n",
      "<type 'dict_keys'>\n",
      "dict_keys(['foo', 'foo1'])\n",
      "<type 'list'>\n",
      "['foo', 'foo1']\n",
      "dict_keys(['foo', 'foo1', 'foo2'])\n",
      "['foo', 'foo1']\n"
     ]
    }
   ],
   "source": [
    "#encoding:utf-8\n",
    "'''viewkeys, viewvalues, viewitems in python 2'''\n",
    "\n",
    "my_dict = {'foo': 'bar', 'foo1': 'bar1'}\n",
    "\n",
    "gen = my_dict.iterkeys()\n",
    "print(type(gen))\n",
    "print(gen)\n",
    "\n",
    "view = my_dict.viewkeys()\n",
    "print(type(view))\n",
    "print(view)\n",
    "\n",
    "keys = my_dict.keys()\n",
    "print(type(keys))\n",
    "print(keys)\n",
    "\n",
    "my_dict['foo2'] = 'bar2'\n",
    "print(view)\n",
    "print(keys)"
   ]
  }
 ],
 "metadata": {
  "kernelspec": {
   "display_name": "Python 2",
   "language": "python",
   "name": "python2"
  },
  "language_info": {
   "codemirror_mode": {
    "name": "ipython",
    "version": 2
   },
   "file_extension": ".py",
   "mimetype": "text/x-python",
   "name": "python",
   "nbconvert_exporter": "python",
   "pygments_lexer": "ipython2",
   "version": "2.7.11"
  }
 },
 "nbformat": 4,
 "nbformat_minor": 2
}
