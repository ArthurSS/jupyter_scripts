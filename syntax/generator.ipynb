{
 "cells": [
  {
   "cell_type": "code",
   "execution_count": 183,
   "metadata": {
    "collapsed": false
   },
   "outputs": [
    {
     "name": "stdout",
     "output_type": "stream",
     "text": [
      "<type 'function'>\n",
      "<type 'generator'>\n",
      "1\n",
      "2 --> punch!\n",
      "<type 'exceptions.StopIteration'>\n"
     ]
    }
   ],
   "source": [
    "#encoding:utf-8\n",
    "def simple_gen():\n",
    "    '''basic generator'''\n",
    "    yield 1\n",
    "    yield '2 --> punch!'\n",
    "\n",
    "print(type(simple_gen))\n",
    "\n",
    "my_gen = simple_gen()\n",
    "print(type(my_gen))\n",
    "\n",
    "print(my_gen.next())\n",
    "print(my_gen.next())\n",
    "try:\n",
    "    print(my_gen.next())\n",
    "except Exception as e:\n",
    "    print(type(e))"
   ]
  },
  {
   "cell_type": "code",
   "execution_count": 177,
   "metadata": {
    "collapsed": false
   },
   "outputs": [
    {
     "name": "stdout",
     "output_type": "stream",
     "text": [
      "local variable 'val' referenced before assignment\n",
      "5\n"
     ]
    }
   ],
   "source": [
    "#encoding:utf-8\n",
    "\n",
    "def counter(start_at=0):\n",
    "    '''send generator'''\n",
    "    count = start_at\n",
    "    while True:\n",
    "        try:\n",
    "            val = yield count\n",
    "        finally:\n",
    "            try:\n",
    "                print(\"val is %r\" % val)\n",
    "            except UnboundLocalError as e:\n",
    "                print(e)\n",
    "        if val is not None:\n",
    "            count = val\n",
    "        else:\n",
    "            count += 1\n",
    "# 此处存疑\n",
    "count = counter(5)\n",
    "print(count.send(None))\n",
    "\n",
    "#print(count.next())\n",
    "#print(count.next())\n",
    "#print(count.send(22))\n",
    "#print(count.next())"
   ]
  },
  {
   "cell_type": "code",
   "execution_count": null,
   "metadata": {
    "collapsed": false
   },
   "outputs": [],
   "source": []
  }
 ],
 "metadata": {
  "kernelspec": {
   "display_name": "Python 2",
   "language": "python",
   "name": "python2"
  },
  "language_info": {
   "codemirror_mode": {
    "name": "ipython",
    "version": 2
   },
   "file_extension": ".py",
   "mimetype": "text/x-python",
   "name": "python",
   "nbconvert_exporter": "python",
   "pygments_lexer": "ipython2",
   "version": "2.7.11"
  }
 },
 "nbformat": 4,
 "nbformat_minor": 2
}
