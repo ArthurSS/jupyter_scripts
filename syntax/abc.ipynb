{
 "cells": [
  {
   "cell_type": "code",
   "execution_count": 30,
   "metadata": {
    "collapsed": false
   },
   "outputs": [
    {
     "name": "stdout",
     "output_type": "stream",
     "text": [
      "*-#-*-#-*-#-*-#-*-#-*-#-*-#-*-#-*-#-*-#-*-#-*-#-*-#-*-#-*-#-*-#-*-#-*-#-*-#-*-#-*-#-*-#-*-#-*-#-*-#-*-#-*-#-*-#-*-#-*-#-\n",
      "issubclass(dict, AbstractDict): True\n",
      "issubclass(AnotherAbc, AbstractDict): True\n",
      "*-#-*-#-*-#-*-#-*-#-*-#-*-#-*-#-*-#-*-#-*-#-*-#-*-#-*-#-*-#-*-#-*-#-*-#-*-#-*-#-*-#-*-#-*-#-*-#-*-#-*-#-*-#-*-#-*-#-*-#-\n",
      "<type 'exceptions.TypeError'>\n",
      "Can't instantiate abstract class AbstractDict with abstract methods bar\n",
      "*-#-*-#-*-#-*-#-*-#-*-#-*-#-*-#-*-#-*-#-*-#-*-#-*-#-*-#-*-#-*-#-*-#-*-#-*-#-*-#-*-#-*-#-*-#-*-#-*-#-*-#-*-#-*-#-*-#-*-#-\n",
      "Python 3 only!\n",
      "name 'Callable' is not defined\n"
     ]
    }
   ],
   "source": [
    "#encoding: utf-8\n",
    "import abc\n",
    "\n",
    "class AbstractDict():\n",
    "    __metaclass__ = abc.ABCMeta\n",
    "    def foo(self):\n",
    "        return 'bar'\n",
    "    \n",
    "    @classmethod\n",
    "    def __subclasshook__(cls, other):\n",
    "        return NotImplemented\n",
    "    \n",
    "    @abc.abstractmethod\n",
    "    def bar(self):\n",
    "        pass\n",
    "\n",
    "class AnotherAbc(AbstractDict):\n",
    "    def bar(self):\n",
    "        return 'foo'\n",
    "# 1. test issubclass()\n",
    "print(\"*-#-\" * 30)\n",
    "AbstractDict.register(dict)\n",
    "print(\"issubclass(dict, AbstractDict): %r\" % issubclass(dict, AbstractDict))\n",
    "print(\"issubclass(AnotherAbc, AbstractDict): %r\" % issubclass(AnotherAbc, AbstractDict))\n",
    "\n",
    "# 2. test @abc.abstractmethod\n",
    "print(\"*-#-\" * 30)\n",
    "try:\n",
    "    my_fist_abs = AbstractDict()\n",
    "except TypeError as e:\n",
    "    print(type(e))\n",
    "    print(e)\n",
    "\n",
    "# 3. Python 3 only! Five built-in abtract method that have different __subclasshook__ method\n",
    "print(\"*-#-\" * 30)\n",
    "def foo():\n",
    "    pass\n",
    "\n",
    "try:\n",
    "    print(\"issubclass(foo, Callable): %r\" % issubclass(foo, Callable))\n",
    "except NameError as e:\n",
    "    print(\"Python 3 only!\")\n",
    "    print(e)"
   ]
  }
 ],
 "metadata": {
  "kernelspec": {
   "display_name": "Python 2",
   "language": "python",
   "name": "python2"
  },
  "language_info": {
   "codemirror_mode": {
    "name": "ipython",
    "version": 2
   },
   "file_extension": ".py",
   "mimetype": "text/x-python",
   "name": "python",
   "nbconvert_exporter": "python",
   "pygments_lexer": "ipython2",
   "version": "2.7.11"
  }
 },
 "nbformat": 4,
 "nbformat_minor": 2
}
