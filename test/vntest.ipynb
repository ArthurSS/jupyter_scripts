{
 "cells": [
  {
   "cell_type": "code",
   "execution_count": 2,
   "metadata": {
    "collapsed": false
   },
   "outputs": [
    {
     "ename": "NameError",
     "evalue": "name '__file__' is not defined",
     "output_type": "error",
     "traceback": [
      "\u001b[1;31m---------------------------------------------------------------------------\u001b[0m",
      "\u001b[1;31mNameError\u001b[0m                                 Traceback (most recent call last)",
      "\u001b[1;32m<ipython-input-2-6989e5c1e77e>\u001b[0m in \u001b[0;36m<module>\u001b[1;34m()\u001b[0m\n\u001b[0;32m      9\u001b[0m \u001b[1;33m\u001b[0m\u001b[0m\n\u001b[0;32m     10\u001b[0m \u001b[1;31m# 将根目录路径添加到环境变量中\u001b[0m\u001b[1;33m\u001b[0m\u001b[1;33m\u001b[0m\u001b[0m\n\u001b[1;32m---> 11\u001b[1;33m \u001b[0mROOT_PATH\u001b[0m \u001b[1;33m=\u001b[0m \u001b[0mos\u001b[0m\u001b[1;33m.\u001b[0m\u001b[0mpath\u001b[0m\u001b[1;33m.\u001b[0m\u001b[0mabspath\u001b[0m\u001b[1;33m(\u001b[0m\u001b[0mos\u001b[0m\u001b[1;33m.\u001b[0m\u001b[0mpath\u001b[0m\u001b[1;33m.\u001b[0m\u001b[0mdirname\u001b[0m\u001b[1;33m(\u001b[0m\u001b[0m__file__\u001b[0m\u001b[1;33m)\u001b[0m\u001b[1;33m)\u001b[0m\u001b[1;33m\u001b[0m\u001b[0m\n\u001b[0m\u001b[0;32m     12\u001b[0m \u001b[1;33m\u001b[0m\u001b[0m\n\u001b[0;32m     13\u001b[0m \u001b[1;32mprint\u001b[0m \u001b[0mROOT_PATH\u001b[0m\u001b[1;33m\u001b[0m\u001b[0m\n",
      "\u001b[1;31mNameError\u001b[0m: name '__file__' is not defined"
     ]
    }
   ],
   "source": [
    "# encoding: UTF-8\n",
    "\n",
    "\"\"\"\n",
    "用于vn.trader的运行目录环境设置\n",
    "\"\"\"\n",
    "\n",
    "import os\n",
    "import sys\n",
    "\n",
    "# 将根目录路径添加到环境变量中\n",
    "ROOT_PATH = os.path.abspath(os.path.dirname(__file__))\n",
    "\n",
    "print ROOT_PATH\n",
    "print sys.path"
   ]
  },
  {
   "cell_type": "code",
   "execution_count": 22,
   "metadata": {
    "collapsed": false
   },
   "outputs": [
    {
     "name": "stdout",
     "output_type": "stream",
     "text": [
      "0\n",
      "2\n",
      "4\n",
      "6\n",
      "8\n",
      "10\n",
      "12\n",
      "14\n",
      "16\n",
      "18\n",
      "<type 'int'>\n",
      "<type 'str'>\n"
     ]
    }
   ],
   "source": [
    "l = range(10,20)\n",
    "numDict = dict(enumerate(l))\n",
    "numList = list(enumerate(l))\n",
    "a = range(20)\n",
    "for i in a:\n",
    "    print i\n",
    "    a.remove(i+1)\n",
    "a = 1234\n",
    "print type(a)\n",
    "print type(str(a))\n"
   ]
  },
  {
   "cell_type": "code",
   "execution_count": 1,
   "metadata": {
    "collapsed": false
   },
   "outputs": [
    {
     "name": "stdout",
     "output_type": "stream",
     "text": [
      "3.14159265359\n",
      "2.71828182846\n"
     ]
    }
   ],
   "source": [
    "import math\n",
    "print math.pi\n",
    "print math.exp(1)"
   ]
  },
  {
   "cell_type": "code",
   "execution_count": 1,
   "metadata": {
    "collapsed": false
   },
   "outputs": [
    {
     "name": "stdout",
     "output_type": "stream",
     "text": [
      "16\n",
      "12\n",
      "16\n",
      "03\n"
     ]
    }
   ],
   "source": [
    "import time\n",
    "nowTime = time.localtime(time.time())\n",
    "nowYear = time.strftime('%y' ,nowTime)\n",
    "nowMonth = time.strftime('%m' ,nowTime)\n",
    "nowDay = time.strftime('%d' ,nowTime)\n",
    "print nowYear\n",
    "print nowMonth\n",
    "print nowDay\n",
    "print 'm1703'[3:5]"
   ]
  },
  {
   "cell_type": "code",
   "execution_count": 8,
   "metadata": {
    "collapsed": false
   },
   "outputs": [
    {
     "name": "stdout",
     "output_type": "stream",
     "text": [
      "20.24\n",
      "111.0\n"
     ]
    }
   ],
   "source": [
    "import math\n",
    "timePeriod = 20.235123412341234123\n",
    "timePeriod = round(timePeriod ,2)\n",
    "print timePeriod\n",
    "print float(111)"
   ]
  },
  {
   "cell_type": "code",
   "execution_count": 1,
   "metadata": {
    "collapsed": false
   },
   "outputs": [
    {
     "name": "stdout",
     "output_type": "stream",
     "text": [
      "9.23867683998\n"
     ]
    }
   ],
   "source": [
    "import math\n",
    "print 588+2700*math.exp(-0.02*0.33)-337-2924"
   ]
  },
  {
   "cell_type": "code",
   "execution_count": 159,
   "metadata": {
    "collapsed": false
   },
   "outputs": [
    {
     "name": "stdout",
     "output_type": "stream",
     "text": [
      "symbol1    [1, 2, 4, 5]\n",
      "symbol2    [9, 8, 7, 6]\n",
      "dtype: object\n"
     ]
    }
   ],
   "source": [
    "import numpy as np\n",
    "import pandas as pd\n",
    "columns_ = ['askPrice1', 'bidPrice1', 'askVolume1', 'bidVolume1', \\\n",
    "        #'strikePrice', 'time', \\\n",
    "        'lastPrice', 'lastVolume', 'volume', 'openInterest', 'vtSymbol', \\\n",
    "        'time', 'date', 'openPrice', 'highPrice',  'lowPrice', \\\n",
    "        'upperLimit', 'lowerLimit']\n",
    "allDataFrame = pd.DataFrame(index=columns_)\n",
    "#print allDataFrame\n",
    "s = pd.Series(data={'symbol1':[1,2,4,5], 'symbol2':[9,8,7,6]})\n",
    "print s\n",
    "tick = {'askPrice1': 300, 'bidPrice1': 299, 'bidVolume1':30, 'askVolume1':40, 'vtSymbol': 'm1703-C-3000'}\n",
    "\n",
    "s = pd.Series(data='')\n",
    "df1 = pd.DataFrame(data=tick, )\n",
    "#df1 = pd.DataFrame(data={'symbol1':1234, 'symbol2':9876}, index = '123')\n",
    "#print df1\n",
    "\n",
    "#allDataFrame.loc['askPrice1'] = pd.DataFrame({'symbol1':1234, 'symbol2':9876},ignore_index=True)\n"
   ]
  },
  {
   "cell_type": "code",
   "execution_count": 160,
   "metadata": {
    "collapsed": false
   },
   "outputs": [
    {
     "name": "stdout",
     "output_type": "stream",
     "text": [
      "0    1.0\n",
      "1    3.0\n",
      "2    5.0\n",
      "3    NaN\n",
      "4    6.0\n",
      "5    8.0\n",
      "dtype: float64\n",
      "DatetimeIndex(['2013-01-01', '2013-01-02', '2013-01-03', '2013-01-04',\n",
      "               '2013-01-05', '2013-01-06'],\n",
      "              dtype='datetime64[ns]', freq='D')\n",
      "                   A         B         C         D\n",
      "2013-01-01  0.294289 -0.365922 -0.116185 -1.775101\n",
      "2013-01-02  1.627760 -0.144532 -0.273044 -0.217449\n",
      "2013-01-03 -1.205581  1.563060  2.249036  0.558126\n",
      "2013-01-04  1.422422  1.091304  0.393592  1.380326\n",
      "2013-01-05 -0.309317  0.269822 -1.131651 -0.983586\n",
      "2013-01-06  0.614607  0.177528 -0.500550 -1.162901\n",
      "************************************************** Getting ***********************************************\n",
      "df['A']: \n",
      " 2013-01-01    0.294289\n",
      "2013-01-02    1.627760\n",
      "2013-01-03   -1.205581\n",
      "2013-01-04    1.422422\n",
      "2013-01-05   -0.309317\n",
      "2013-01-06    0.614607\n",
      "Freq: D, Name: A, dtype: float64\n",
      "type(df['A']: \n",
      " <class 'pandas.core.series.Series'>\n",
      "#########################################\n",
      "df[0:1]: \n",
      "                    A         B         C         D\n",
      "2013-01-01  0.294289 -0.365922 -0.116185 -1.775101\n",
      "type(df[0:1]: \n",
      " <class 'pandas.core.frame.DataFrame'>\n",
      "#########################################\n",
      "                   A         B         C         D\n",
      "2013-01-02  1.627760 -0.144532 -0.273044 -0.217449\n",
      "2013-01-03 -1.205581  1.563060  2.249036  0.558126\n",
      "2013-01-04  1.422422  1.091304  0.393592  1.380326\n",
      "**************************************** Selection by label ***********************************************\n",
      "0.294289496715\n",
      "0.294289496715\n",
      "                   A         B\n",
      "2013-01-01  0.294289 -0.365922\n",
      "2013-01-02  1.627760 -0.144532\n",
      "2013-01-03 -1.205581  1.563060\n",
      "2013-01-04  1.422422  1.091304\n",
      "2013-01-05 -0.309317  0.269822\n",
      "2013-01-06  0.614607  0.177528\n",
      "**************************************** Selection by Position ***********************************************\n",
      "df.iloc[3]: \n",
      " A    1.422422\n",
      "B    1.091304\n",
      "C    0.393592\n",
      "D    1.380326\n",
      "Name: 2013-01-04 00:00:00, dtype: float64\n",
      "type(df.iloc[3]: \n",
      " <class 'pandas.core.series.Series'>\n",
      "#########################################\n",
      "df.iloc[3:5, 0:2]: \n",
      "                    A         B\n",
      "2013-01-04  1.422422  1.091304\n",
      "2013-01-05 -0.309317  0.269822\n",
      "type(df.iloc[3:5, 0:2]: \n",
      " <class 'pandas.core.frame.DataFrame'>\n",
      "#########################################\n",
      "df.iloc[[1,2,4],[0,2]]: \n",
      "                    A         C\n",
      "2013-01-02  1.627760 -0.273044\n",
      "2013-01-03 -1.205581  2.249036\n",
      "2013-01-05 -0.309317 -1.131651\n",
      "#########################################\n",
      "0.294289496715\n",
      "0.294289496715\n",
      "******************************************** Boolean Selection ***********************************************\n",
      "Using a single column’s values to select data.\n",
      "type(df[df.A>0]): \n",
      " <class 'pandas.core.frame.DataFrame'>\n",
      "A where operation for getting.\n",
      "type(df[df>0]): \n",
      " <class 'pandas.core.frame.DataFrame'>\n",
      "Using the isin() method for ﬁltering:\n",
      "                   A         B         C         D      E\n",
      "2013-01-01  0.294289 -0.365922 -0.116185 -1.775101    one\n",
      "2013-01-02  1.627760 -0.144532 -0.273044 -0.217449    one\n",
      "2013-01-04  1.422422  1.091304  0.393592  1.380326  three\n",
      "2013-01-06  0.614607  0.177528 -0.500550 -1.162901  three\n",
      "****************************************************** Setting ***********************************************\n",
      "                   A         B         C  D       F\n",
      "2013-01-01  0.294289 -0.365922 -0.116185  5  1.9999\n",
      "2013-01-02  1.627760 -0.144532 -0.273044  5  0.0000\n",
      "2013-01-03 -1.205581  1.563060  2.249036  5  1.0000\n",
      "2013-01-04  1.422422  1.091304  0.393592  5  2.0000\n",
      "2013-01-05 -0.309317  0.269822 -1.131651  5  3.0000\n",
      "2013-01-06  0.614607  0.177528 -0.500550  5  4.0000\n",
      "                   A         B         C  D       F\n",
      "2013-01-01 -0.294289 -0.365922 -0.116185 -5 -1.9999\n",
      "2013-01-02 -1.627760 -0.144532 -0.273044 -5  0.0000\n",
      "2013-01-03 -1.205581 -1.563060 -2.249036 -5 -1.0000\n",
      "2013-01-04 -1.422422 -1.091304 -0.393592 -5 -2.0000\n",
      "2013-01-05 -0.309317 -0.269822 -1.131651 -5 -3.0000\n",
      "2013-01-06 -0.614607 -0.177528 -0.500550 -5 -4.0000\n",
      "****************************************************** Missing Data ***********************************************\n",
      "                   A         B         C  D       F   E\n",
      "2013-01-01  0.294289 -0.365922 -0.116185  5  1.9999 NaN\n",
      "2013-01-02  1.627760 -0.144532 -0.273044  5  0.0000 NaN\n",
      "2013-01-03 -1.205581  1.563060  2.249036  5  1.0000 NaN\n",
      "2013-01-04  1.422422  1.091304  0.393592  5  2.0000 NaN\n",
      "                A      B      C     D      F      E\n",
      "2013-01-01  False  False  False  True  False  False\n",
      "2013-01-02  False  False  False  True  False  False\n",
      "2013-01-03  False  False  False  True  False  False\n",
      "2013-01-04  False  False  False  True  False  False\n"
     ]
    }
   ],
   "source": [
    "# encoding:utf-8\n",
    "# 主要的测试\n",
    "import numpy as np\n",
    "import pandas as pd\n",
    "s = pd.Series([1,3,5,np.nan,6,8])\n",
    "print s\n",
    "dates = pd.date_range('20130101', periods=6)\n",
    "print dates\n",
    "\n",
    "# Creating a dataframe by passing a numpy array.\n",
    "df = pd.DataFrame(data=np.random.randn(6, 4), index=dates, columns=list('ABCD'))\n",
    "print df\n",
    "\n",
    "# Creating a dataframe by passing a dict of objects that can be converted into series-liked.\n",
    "df2 = pd.DataFrame(data={'A': 1, 'B': pd.Timestamp('20130102'), 'C': pd.Series(1, index = range(4), dtype='float32'), \\\n",
    "                        'D':np.array([3]*4, dtype='int32'), 'E':pd.Categorical([\"test\",\"train\",\"test\",\"train\"]), 'F':'foo'})\n",
    "#print df2\n",
    "#print df2.dtypes\n",
    "#print df.index\n",
    "#print df.columns\n",
    "#print df.values\n",
    "#print df.sort_index(axis=0, ascending=False)\n",
    "#print(df.sort_values(by='B', ascending=False))\n",
    "\n",
    "print('************************************************** Getting ***********************************************')\n",
    "print(\"df['A']: \\n %r\" % df['A'])\n",
    "print(\"type(df['A']: \\n %r\" % type(df['A']))\n",
    "print('#########################################')\n",
    "print(\"df[0:1]: \\n %r\" % df[0:1])\n",
    "print(\"type(df[0:1]: \\n %r\" % type(df[0:1]))\n",
    "print('#########################################')\n",
    "print(df['20130102':'20130104'])\n",
    "\n",
    "print('**************************************** Selection by label ***********************************************')\n",
    "print(df.loc[dates[0], 'A'])\n",
    "print(df.at[dates[0], 'A'])\n",
    "print(df.loc[:, ['A', 'B']])\n",
    "\n",
    "print('**************************************** Selection by Position ***********************************************')\n",
    "print(\"df.iloc[3]: \\n %r\" % df.iloc[3])\n",
    "print(\"type(df.iloc[3]: \\n %r\" % type(df.iloc[3]))\n",
    "print('#########################################')\n",
    "print(\"df.iloc[3:5, 0:2]: \\n %r\" % df.iloc[3:5, 0:2])\n",
    "print(\"type(df.iloc[3:5, 0:2]: \\n %r\" % type(df.iloc[3:5, 0:2]))\n",
    "print('#########################################')\n",
    "print(\"df.iloc[[1,2,4],[0,2]]: \\n %r\" % df.iloc[[1,2,4],[0,2]])\n",
    "print('#########################################')\n",
    "print(df.iloc[0,0])\n",
    "print(df.iat[0,0])\n",
    "\n",
    "print('******************************************** Boolean Selection ***********************************************')\n",
    "print('Using a single column’s values to select data.')\n",
    "print('type(df[df.A>0]): \\n %r' % type(df[df.A>0]))\n",
    "print('A where operation for getting.')\n",
    "print('type(df[df>0]): \\n %r' % type(df[df>0]))\n",
    "\n",
    "print('Using the isin() method for ﬁltering:')\n",
    "df2 = df.copy()\n",
    "df2['E'] = ['one', 'one','two','three','four','three']\n",
    "print(df2[df2['E'].isin(['one', 'three'])])\n",
    "\n",
    "print('****************************************************** Setting ***********************************************')\n",
    "s1 = pd.Series(data=range(6), index=pd.date_range('20130102', periods=6))\n",
    "df['F'] = s1\n",
    "df.at['20130101', 'F'] = 1.1111\n",
    "df.loc['20130101', 'F'] = 1.0000\n",
    "df.iloc[0,4] = 1.2222\n",
    "df.iat[0,4] = 1.9999\n",
    "df.loc[:, 'D'] = np.array([5]*len(df))\n",
    "df2 = df.copy()\n",
    "df2[df2>0] = -df2\n",
    "print df\n",
    "print df2\n",
    "\n",
    "print('****************************************************** Missing Data ***********************************************')\n",
    "\n",
    "df1 = df.reindex(index=dates[0:4], columns=list(df.columns)+['E'])\n",
    "print df1\n",
    "print(df1.isin([5]))\n"
   ]
  },
  {
   "cell_type": "code",
   "execution_count": 161,
   "metadata": {
    "collapsed": false
   },
   "outputs": [
    {
     "name": "stdout",
     "output_type": "stream",
     "text": [
      "************************************************ Operation!!!!!!!!!!!!********************************************\n",
      "2013-01-01    NaN\n",
      "2013-01-02    NaN\n",
      "2013-01-03    1.0\n",
      "2013-01-04    3.0\n",
      "2013-01-05    5.0\n",
      "2013-01-06    NaN\n",
      "Freq: D, dtype: float64\n",
      "                   A         B         C    D    F\n",
      "2013-01-01       NaN       NaN       NaN  NaN  NaN\n",
      "2013-01-02       NaN       NaN       NaN  NaN  NaN\n",
      "2013-01-03 -2.205581  0.563060  1.249036  4.0  0.0\n",
      "2013-01-04 -1.577578 -1.908696 -2.606408  2.0 -1.0\n",
      "2013-01-05 -5.309317 -4.730178 -6.131651  0.0 -2.0\n",
      "2013-01-06       NaN       NaN       NaN  NaN  NaN\n",
      "                   A         B         C   D        F\n",
      "2013-01-01  0.294289 -0.365922 -0.116185   5   1.9999\n",
      "2013-01-02  1.922049 -0.510454 -0.389229  10   1.9999\n",
      "2013-01-03  0.716468  1.052606  1.859807  15   2.9999\n",
      "2013-01-04  2.138890  2.143910  2.253399  20   4.9999\n",
      "2013-01-05  1.829573  2.413733  1.121748  25   7.9999\n",
      "2013-01-06  2.444179  2.591261  0.621199  30  11.9999\n",
      "2013-01-01    5.365922\n",
      "2013-01-02    5.273044\n",
      "2013-01-03    6.205581\n",
      "2013-01-04    4.606408\n",
      "2013-01-05    6.131651\n",
      "2013-01-06    5.500550\n",
      "Freq: D, dtype: float64\n",
      "6    4\n",
      "5    3\n",
      "4    3\n",
      "dtype: int64\n",
      "****************************************************** Merge ***********************************************\n",
      "concat\n",
      "          0         1         2         3\n",
      "0  0.635587 -0.662323  0.168448 -0.963595\n",
      "1 -0.818128  0.795982 -1.179406  0.409987\n",
      "2  0.785867 -0.141752  0.363178 -0.004069\n",
      "3 -0.914919 -1.382858  0.146045  0.180721\n",
      "4  0.548244  0.948924 -0.537057  0.321940\n",
      "5 -1.065620  0.752228  0.558482 -1.292879\n",
      "6 -0.791682  0.214746  0.732853  2.218810\n",
      "7 -0.123868  0.522746  1.115546  0.165656\n",
      "8 -0.399897  0.127993 -2.213388  1.273576\n",
      "9 -0.223959 -0.969865 -0.214856 -0.354824\n",
      "  keys  lval\n",
      "0  foo     1\n",
      "1  foo     2 \n",
      "  keys  rval\n",
      "0  foo     4\n",
      "1  foo     5\n"
     ]
    },
    {
     "data": {
      "text/html": [
       "<div>\n",
       "<table border=\"1\" class=\"dataframe\">\n",
       "  <thead>\n",
       "    <tr style=\"text-align: right;\">\n",
       "      <th></th>\n",
       "      <th>keys</th>\n",
       "      <th>lval</th>\n",
       "      <th>rval</th>\n",
       "    </tr>\n",
       "  </thead>\n",
       "  <tbody>\n",
       "    <tr>\n",
       "      <th>0</th>\n",
       "      <td>foo</td>\n",
       "      <td>1</td>\n",
       "      <td>4</td>\n",
       "    </tr>\n",
       "    <tr>\n",
       "      <th>1</th>\n",
       "      <td>foo</td>\n",
       "      <td>1</td>\n",
       "      <td>5</td>\n",
       "    </tr>\n",
       "    <tr>\n",
       "      <th>2</th>\n",
       "      <td>foo</td>\n",
       "      <td>2</td>\n",
       "      <td>4</td>\n",
       "    </tr>\n",
       "    <tr>\n",
       "      <th>3</th>\n",
       "      <td>foo</td>\n",
       "      <td>2</td>\n",
       "      <td>5</td>\n",
       "    </tr>\n",
       "  </tbody>\n",
       "</table>\n",
       "</div>"
      ],
      "text/plain": [
       "  keys  lval  rval\n",
       "0  foo     1     4\n",
       "1  foo     1     5\n",
       "2  foo     2     4\n",
       "3  foo     2     5"
      ]
     },
     "execution_count": 161,
     "metadata": {},
     "output_type": "execute_result"
    }
   ],
   "source": [
    "print('************************************************ Operation!!!!!!!!!!!!********************************************')\n",
    "s = pd.Series(data=[1, 3, 5, np.nan, 6, 8], index=dates).shift(2)\n",
    "print s\n",
    "print(df.sub(s, axis='index'))\n",
    "print(df.apply(np.cumsum))\n",
    "print(df.apply(lambda x: x.max()-x.min(), axis=1))\n",
    "s = pd.Series(data=np.random.randint(4,7,size=10))\n",
    "print s.value_counts()\n",
    "\n",
    "print('****************************************************** Merge ***********************************************')\n",
    "print('concat')\n",
    "df = pd.DataFrame(data=np.random.randn(10, 4))\n",
    "pieces = [df[:3], df[3:7], df[7:10]]\n",
    "df = pd.concat(pieces)\n",
    "print df\n",
    "left = pd.DataFrame({'keys': ['foo', 'foo'], 'lval': [1, 2]})\n",
    "right = pd.DataFrame({'keys': ['foo', 'foo'], 'rval': [4, 5]})\n",
    "print left, '\\n', right\n",
    "pd.merge(left, right, on='keys')"
   ]
  },
  {
   "cell_type": "code",
   "execution_count": 180,
   "metadata": {
    "collapsed": false
   },
   "outputs": [
    {
     "name": "stdout",
     "output_type": "stream",
     "text": [
      "             askPrice1 bidPrice1 askVolume1 bidVolume1 strikePrice term  \\\n",
      "m1703-C-2450       111       NaN        NaN        NaN         NaN  NaN   \n",
      "m1708-C-2850       NaN       NaN        NaN        NaN         NaN  NaN   \n",
      "m1708-C-2700       NaN       NaN        NaN        NaN         NaN  NaN   \n",
      "m1708-C-2750       NaN       NaN        NaN        NaN         NaN  NaN   \n",
      "m1708-P-3050       NaN       NaN        NaN        NaN         NaN  NaN   \n",
      "\n",
      "             vtTypelastPrice lastVolume volume openInterest vtSymbol time  \\\n",
      "m1703-C-2450             NaN        NaN    NaN          NaN      NaN  NaN   \n",
      "m1708-C-2850             NaN        NaN    NaN          NaN      NaN  NaN   \n",
      "m1708-C-2700             NaN        NaN    NaN          NaN      NaN  NaN   \n",
      "m1708-C-2750             NaN        NaN    NaN          NaN      NaN  NaN   \n",
      "m1708-P-3050             NaN        NaN    NaN          NaN      NaN  NaN   \n",
      "\n",
      "             date openPrice highPrice lowPrice upperLimit lowerLimit  \n",
      "m1703-C-2450  NaN       NaN       NaN      NaN        NaN        NaN  \n",
      "m1708-C-2850  NaN       NaN       NaN      NaN        NaN        NaN  \n",
      "m1708-C-2700  NaN       NaN       NaN      NaN        NaN        NaN  \n",
      "m1708-C-2750  NaN       NaN       NaN      NaN        NaN        NaN  \n",
      "m1708-P-3050  NaN       NaN       NaN      NaN        NaN        NaN  \n"
     ]
    }
   ],
   "source": [
    "import numpy as np\n",
    "import pandas as pd\n",
    "columns = ['askPrice1', 'bidPrice1', 'askVolume1', 'bidVolume1', \\\n",
    "\t\t'strikePrice', 'term', 'vtType'\\\n",
    "\t\t'lastPrice', 'lastVolume', 'volume', 'openInterest', 'vtSymbol', \\\n",
    "\t\t'time', 'date', 'openPrice', 'highPrice',  'lowPrice', \\\n",
    "\t\t'upperLimit', 'lowerLimit']\n",
    "vtSymbol = [\"m1703-C-2450\", \n",
    "            \"m1708-C-2850\", \n",
    "            \"m1708-C-2700\", \n",
    "            \"m1708-C-2750\", \n",
    "            \"m1708-P-3050\"]\n",
    "allDataFrame = pd.DataFrame(columns=columns, index=vtSymbol)\n",
    "#print allDataFrame\n",
    "allDataFrame.loc[\"m1703-C-2450\", 'askPrice1'] = 111\n",
    "print allDataFrame"
   ]
  },
  {
   "cell_type": "code",
   "execution_count": 20,
   "metadata": {
    "collapsed": false
   },
   "outputs": [
    {
     "name": "stdout",
     "output_type": "stream",
     "text": [
      "['A' 'C' 'D' 'vtType']\n",
      "nan\n"
     ]
    }
   ],
   "source": [
    "import numpy as np\n",
    "import pandas as pd\n",
    "df = pd.DataFrame({'A' : ['foo', 'bar', 'foo', 'bar', 'foo', 'bar', 'foo', 'foo'],\n",
    "                   'vtType' : ['one', 'one', 'two', 'three', 'two', 'two', 'one', 'three'],\n",
    "                   'C' : np.random.randn(8),\n",
    "                   'D' : np.random.randn(8)}, \\\n",
    "                   index = ['m1703-C-3000', 'm1704-C-3000', 'm1705', 'm1703-C-2000', \\\n",
    "                            'm1703', 'm1704', 'm1703-P-3000', 'm1703-C-3150'])\n",
    "df2 = pd.DataFrame({'A' : ['foo', 'bar', 'foo', 'bar', 'foo', 'bar', 'foo', 'foo'],\n",
    "                   'vtType' : ['one', 'one', 'two', 'three', 'two', 'two', 'one', 'three'],\n",
    "                   'C' : np.random.randn(8),\n",
    "                   'D' : np.random.randn(8)}, \\\n",
    "                   index = ['m1703-F-3000', 'm1704-F-3000', 'm1705', 'm1703-F-2000', \\\n",
    "                            'm1703', 'm1704', 'm1703-F-3000', 'm1703-F-3150'])\n",
    "\n",
    "\n",
    "#print(df2)\n",
    "#print(df.loc[:, 'C'] + df2.loc[:, 'D'])\n",
    "s1 = 'm1703-C-3000'\n",
    "s2 = 'm1703'\n",
    "#df.loc[s1, :] = df.loc[s1[0:5], :]\n",
    "resultFrame = pd.DataFrame(columns=['space'], index=sorted(df.index))\n",
    "#print resultFrame\n",
    "#print(df)\n",
    "#print(df2)\n",
    "resultFrame.loc[:, 'space'] = df.loc[:, 'C'].values - df2.loc[:, 'D'].values + 10 + np.nan/np.nan\n",
    "#print(resultFrame)\n",
    "\n",
    "print df.columns.values\n",
    "print abs(np.nan - 1)"
   ]
  }
 ],
 "metadata": {
  "kernelspec": {
   "display_name": "Python 2",
   "language": "python",
   "name": "python2"
  },
  "language_info": {
   "codemirror_mode": {
    "name": "ipython",
    "version": 2
   },
   "file_extension": ".py",
   "mimetype": "text/x-python",
   "name": "python",
   "nbconvert_exporter": "python",
   "pygments_lexer": "ipython2",
   "version": "2.7.11"
  }
 },
 "nbformat": 4,
 "nbformat_minor": 0
}
