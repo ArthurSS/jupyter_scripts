{
 "cells": [
  {
   "cell_type": "code",
   "execution_count": 7,
   "metadata": {
    "collapsed": false
   },
   "outputs": [
    {
     "name": "stdout",
     "output_type": "stream",
     "text": [
      "this is the print_1\n",
      "this is the print_2\n",
      "this is the print_2\n"
     ]
    }
   ],
   "source": [
    "print_1()\n",
    "print_2() \n",
    "\n",
    "def print_1():\n",
    "    print \"this is the print_1\"\n",
    "    print_2()\n",
    "\n",
    "def print_2():\n",
    "    print \"this is the print_2\"\n",
    "\n"
   ]
  },
  {
   "cell_type": "code",
   "execution_count": 17,
   "metadata": {
    "collapsed": false
   },
   "outputs": [
    {
     "name": "stdout",
     "output_type": "stream",
     "text": [
      "False\n",
      "[1, 2, 3]\n",
      "False\n",
      "[1, 2, 3]\n",
      "[2, 2, 3, 4, 5, 24, 243, 3435]\n",
      "[2, 3, 4, 5, 24, 243, 3435]\n",
      "[2, 3, 4, 5, 24, 243, 3435]\n"
     ]
    }
   ],
   "source": [
    "# encoding: UTF-8\n",
    "\n",
    "a = [1,2,3]\n",
    "b = a[:]\n",
    "print a is b\n",
    "a.append(100)\n",
    "print b\n",
    "\n",
    "c = [1,2,3]\n",
    "d = [1,2,3]\n",
    "print c is d\n",
    "c.append(100)\n",
    "print d\n",
    "\n",
    "e = [2,4,5,2,3,243,24,3435]\n",
    "e.sort()\n",
    "print e\n",
    "e.remove(2)\n",
    "print e\n",
    "f = sorted(e)\n",
    "print f"
   ]
  },
  {
   "cell_type": "code",
   "execution_count": 25,
   "metadata": {
    "collapsed": false
   },
   "outputs": [
    {
     "name": "stdout",
     "output_type": "stream",
     "text": [
      "{'three': 'tres', 'two': 'dos', 'one': 'uno'}\n",
      "['three', 'two', 'one']\n",
      "['tres', 'dos', 'uno']\n",
      "[('three', 'tres'), ('two', 'dos'), ('one', 'uno')]\n",
      "three tres\n",
      "two dos\n",
      "one uno\n",
      "three tres\n",
      "two dos\n",
      "one uno\n",
      "one uno\n",
      "three tres\n",
      "two dos\n"
     ]
    }
   ],
   "source": [
    "eng2sp = {'one': 'uno', 'two': 'dos', 'three':'tres'}\n",
    "print eng2sp\n",
    "print eng2sp.keys()\n",
    "print eng2sp.values()\n",
    "print eng2sp.items()\n",
    "for key, value in eng2sp.items():\n",
    "    print key, value\n",
    "for c in eng2sp:\n",
    "    print c, eng2sp[c]\n",
    "for c in sorted(eng2sp.keys()):\n",
    "    print c, eng2sp[c]"
   ]
  },
  {
   "cell_type": "code",
   "execution_count": 1,
   "metadata": {
    "collapsed": false
   },
   "outputs": [
    {
     "name": "stdout",
     "output_type": "stream",
     "text": [
      "6765\n"
     ]
    }
   ],
   "source": [
    "# 为什么以下两个函数运行效率差异很大？\n",
    "def fibonacci1(n):\n",
    "    if n == 0:\n",
    "        return 0\n",
    "    elif n == 1:\n",
    "        return 1\n",
    "    else:\n",
    "        return fibonacci1(n-1) + fibonacci1(n-2)\n",
    "\n",
    "known = {0:0, 1:1}\n",
    "def fibonacci2(n):\n",
    "    if n in known:\n",
    "        return known[n]\n",
    "    known[n] = fibonacci2(n-1) + fibonacci2(n-2)\n",
    "    return known[n]\n",
    "\n",
    "print fibonacci1(20)"
   ]
  },
  {
   "cell_type": "code",
   "execution_count": 3,
   "metadata": {
    "collapsed": false
   },
   "outputs": [
    {
     "name": "stdout",
     "output_type": "stream",
     "text": [
      "[(0, 'z'), (1, 'z'), (2, 'z'), (3, 'z'), (4, 'z'), (5, 'z'), (6, 'z'), (7, 'z'), (8, 'z')]\n",
      "<enumerate object at 0x03573418>\n",
      "[(0, 'z'), (1, 'z'), (2, 'z'), (3, 'z'), (4, 'z'), (5, 'z'), (6, 'z'), (7, 'z'), (8, 'z')]\n"
     ]
    }
   ],
   "source": [
    "a = dict(enumerate(\"zzzzzzzzz\")).items()\n",
    "b = dict(enumerate(\"adfasdfasdf\"))\n",
    "b.update(a)\n",
    "a = dict(enumerate(\"zzzzzzzzz\")).items()\n",
    "b = enumerate(\"zzzzzzzzz\")\n",
    "c = list(enumerate(\"zzzzzzzzz\"))\n",
    "print a\n",
    "print b\n",
    "print c"
   ]
  },
  {
   "cell_type": "code",
   "execution_count": 11,
   "metadata": {
    "collapsed": false
   },
   "outputs": [
    {
     "ename": "SyntaxError",
     "evalue": "invalid syntax (<ipython-input-11-cbcc84401f83>, line 47)",
     "output_type": "error",
     "traceback": [
      "\u001b[1;36m  File \u001b[1;32m\"<ipython-input-11-cbcc84401f83>\"\u001b[1;36m, line \u001b[1;32m47\u001b[0m\n\u001b[1;33m    print s.\"var2\"\u001b[0m\n\u001b[1;37m                 ^\u001b[0m\n\u001b[1;31mSyntaxError\u001b[0m\u001b[1;31m:\u001b[0m invalid syntax\n"
     ]
    }
   ],
   "source": [
    "class Test1(object):\n",
    "    var1 = 1.0\n",
    "    var2 = 2.0\n",
    "    def __init__(self, var3 = 3, var4 = 4):\n",
    "        self.var3 = var3\n",
    "        self.var4 = var4\n",
    "        \n",
    "    def __str__(self):\n",
    "        return \"%r, %r, %r, %r\" % (self.var1, self.var2, self.var3, self.var4)\n",
    "    \n",
    "    def printDict(self):\n",
    "        print self.__dict__\n",
    "    \n",
    "    def printAttributes(self):\n",
    "        for attr in self.__dict__:\n",
    "            print attr, getattr(self, attr)\n",
    "\n",
    "    def changeVar(self, var1, var2, var3, var4):\n",
    "        self.var1 = var1\n",
    "        self.var2 = var2\n",
    "        self.var3 = var3\n",
    "        self.var4 = var4\n",
    "        \n",
    "    def print2(self):\n",
    "        print self.var3\n",
    "        \n",
    "    def print3(self):\n",
    "        print \"this is print3\"\n",
    "\n",
    "class Test2(Test1):\n",
    "    def __init__(self):\n",
    "        #pass\n",
    "        super(Test2, self).__init__()\n",
    "    \n",
    "    def printDict(self):\n",
    "        print self.__dict__\n",
    "\n",
    "object1 = Test1(3, 4)\n",
    "object2 = Test2()\n",
    "\n",
    "object1.printDict()\n",
    "object2.printDict()\n",
    "object1.printAttributes()\n",
    "\n",
    "s = Test1\n",
    "\n",
    "print s.\"var2\"\n",
    "s = Test1(2,3)\n",
    "print s.__getattribute__(\"var2\")"
   ]
  },
  {
   "cell_type": "code",
   "execution_count": 14,
   "metadata": {
    "collapsed": false
   },
   "outputs": [
    {
     "name": "stdout",
     "output_type": "stream",
     "text": [
      "False\n"
     ]
    },
    {
     "ename": "TypeError",
     "evalue": "'Test1' object is not iterable",
     "output_type": "error",
     "traceback": [
      "\u001b[1;31m---------------------------------------------------------------------------\u001b[0m",
      "\u001b[1;31mTypeError\u001b[0m                                 Traceback (most recent call last)",
      "\u001b[1;32m<ipython-input-14-49229507775d>\u001b[0m in \u001b[0;36m<module>\u001b[1;34m()\u001b[0m\n\u001b[0;32m      4\u001b[0m \u001b[0mdict1\u001b[0m \u001b[1;33m=\u001b[0m \u001b[1;33m{\u001b[0m\u001b[1;34m'one'\u001b[0m\u001b[1;33m:\u001b[0m \u001b[0mtest1\u001b[0m\u001b[1;33m}\u001b[0m\u001b[1;33m\u001b[0m\u001b[0m\n\u001b[0;32m      5\u001b[0m \u001b[0ml\u001b[0m \u001b[1;33m=\u001b[0m \u001b[0mdict1\u001b[0m\u001b[1;33m[\u001b[0m\u001b[1;34m'one'\u001b[0m\u001b[1;33m]\u001b[0m\u001b[1;33m\u001b[0m\u001b[0m\n\u001b[1;32m----> 6\u001b[1;33m \u001b[1;32mfor\u001b[0m \u001b[0mt\u001b[0m \u001b[1;32min\u001b[0m \u001b[0ml\u001b[0m\u001b[1;33m:\u001b[0m\u001b[1;33m\u001b[0m\u001b[0m\n\u001b[0m\u001b[0;32m      7\u001b[0m     \u001b[1;32mprint\u001b[0m \u001b[0mtype\u001b[0m\u001b[1;33m(\u001b[0m\u001b[0mt\u001b[0m\u001b[1;33m)\u001b[0m\u001b[1;33m\u001b[0m\u001b[0m\n",
      "\u001b[1;31mTypeError\u001b[0m: 'Test1' object is not iterable"
     ]
    }
   ],
   "source": [
    "test1 = Test1()\n",
    "test2 = Test1()\n",
    "print test1 is test2\n",
    "dict1 = {'one': test1}\n",
    "l = dict1['one']\n",
    "for t in l:\n",
    "    print type(t)"
   ]
  },
  {
   "cell_type": "code",
   "execution_count": 53,
   "metadata": {
    "collapsed": false
   },
   "outputs": [
    {
     "name": "stdout",
     "output_type": "stream",
     "text": [
      "the type of dict1 is <type 'dict'>\n",
      "the type of f['data'] is <type 'dict'>\n",
      "dict2 is dict1? True\n",
      "f[\"data\"] is dict1? False\n",
      "the id of dict1 is 59681360\n",
      "the id of f[\"data\"] is 60051792\n",
      "the id of dict2 is 59681360\n",
      "{'data': {'this is a test': 'yes ,this is a test', 'obj': <__main__.Test1 object at 0x03943AB0>}}\n",
      "{'data': {'this is a test': 'yes ,this is a test', 'obj': <__main__.Test1 object at 0x03943AB0>, 'two': <__main__.Test1 object at 0x03943AB0>}}\n",
      "{'this is a test': 'yes ,this is a test', 'obj': <__main__.Test1 object at 0x038DC970>, 'two': <__main__.Test1 object at 0x038DC970>}\n",
      "{'this is a test': 'yes ,this is a test', 'obj': <__main__.Test1 object at 0x038DC970>, 'two': <__main__.Test1 object at 0x038DC970>}\n"
     ]
    }
   ],
   "source": [
    "import shelve\n",
    "\n",
    "f = shelve.open('file.vt')\n",
    "dict1 = {'this is a test':\"yes ,this is a test\", 'obj': test1}\n",
    "f['data'] = dict1\n",
    "dict2 = dict1\n",
    "\n",
    "print \"the type of dict1 is %r\" % type(dict1)\n",
    "print \"the type of f['data'] is %r\" % type(f['data'])\n",
    "print 'dict2 is dict1? %r' % (dict1 is dict2)\n",
    "print 'f[\"data\"] is dict1? %r' % (f['data'] is dict1)\n",
    "print 'the id of dict1 is %r' % id(dict1)\n",
    "print 'the id of f[\"data\"] is %r' % id(f[\"data\"])\n",
    "print 'the id of dict2 is %r' % id(dict2)\n",
    "\n",
    "f['data']['two'] = test1\n",
    "print f\n",
    "\n",
    "dict1['two'] = test1\n",
    "f['data'] = dict1\n",
    "print f\n",
    "print dict2\n",
    "dict1 = 1\n",
    "print dict2\n",
    "f.close()"
   ]
  },
  {
   "cell_type": "code",
   "execution_count": 42,
   "metadata": {
    "collapsed": false
   },
   "outputs": [
    {
     "name": "stdout",
     "output_type": "stream",
     "text": [
      "{'data': {'two': <__main__.Test1 object at 0x038DC970>, 'one': <__main__.Test1 object at 0x038DC970>}}\n"
     ]
    }
   ],
   "source": [
    "a = {'data': {'one': test1}}\n",
    "a['data']['two'] = test1\n",
    "print a"
   ]
  }
 ],
 "metadata": {
  "kernelspec": {
   "display_name": "Python 2",
   "language": "python",
   "name": "python2"
  },
  "language_info": {
   "codemirror_mode": {
    "name": "ipython",
    "version": 2
   },
   "file_extension": ".py",
   "mimetype": "text/x-python",
   "name": "python",
   "nbconvert_exporter": "python",
   "pygments_lexer": "ipython2",
   "version": "2.7.11"
  }
 },
 "nbformat": 4,
 "nbformat_minor": 0
}
