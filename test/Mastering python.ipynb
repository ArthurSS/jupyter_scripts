{
 "cells": [
  {
   "cell_type": "code",
   "execution_count": 5,
   "metadata": {
    "collapsed": false
   },
   "outputs": [
    {
     "name": "stdout",
     "output_type": "stream",
     "text": [
      "spam\n",
      "['spam', 'eggs', 'spam1', 'eggs1', 1, 2, 3, 4, 5, 6, 7, 8, 9, 10]\n",
      "['eggs', 'spam1', 'eggs1', 1, 2, 3, 4, 5, 6, 7, 8, 9, 10]\n",
      "spam1\n",
      "['eggs', 'spam1', 'eggs1', 1, 2, 3, 4, 5, 6, 7, 8, 9, 10]\n",
      "['eggs', 'eggs1', 1, 2, 3, 4, 5, 6, 7, 8, 9, 10]\n",
      "1\n",
      "['eggs', 'eggs1', 1, 2, 3, 4, 5, 6, 7, 8, 9, 10]\n",
      "['eggs', 'eggs1', 2, 3, 4, 5, 6, 7, 8, 9, 10]\n",
      "3\n",
      "['eggs', 'eggs1', 2, 3, 4, 5, 6, 7, 8, 9, 10]\n",
      "['eggs', 'eggs1', 2, 4, 5, 6, 7, 8, 9, 10]\n",
      "5\n",
      "['eggs', 'eggs1', 2, 4, 5, 6, 7, 8, 9, 10]\n",
      "['eggs', 'eggs1', 2, 4, 6, 7, 8, 9, 10]\n",
      "7\n",
      "['eggs', 'eggs1', 2, 4, 6, 7, 8, 9, 10]\n",
      "['eggs', 'eggs1', 2, 4, 6, 8, 9, 10]\n",
      "9\n",
      "['eggs', 'eggs1', 2, 4, 6, 8, 9, 10]\n",
      "['eggs', 'eggs1', 2, 4, 6, 8, 10]\n",
      "spam\n",
      "['spam', 'eggs', 'spam1', 'eggs1', 1, 2, 3, 4, 5, 6, 7, 8, 9, 10]\n",
      "['eggs', 'spam1', 'eggs1', 1, 2, 3, 4, 5, 6, 7, 8, 9, 10]\n",
      "eggs\n",
      "['eggs', 'spam1', 'eggs1', 1, 2, 3, 4, 5, 6, 7, 8, 9, 10]\n",
      "['spam1', 'eggs1', 1, 2, 3, 4, 5, 6, 7, 8, 9, 10]\n",
      "spam1\n",
      "['spam1', 'eggs1', 1, 2, 3, 4, 5, 6, 7, 8, 9, 10]\n",
      "['eggs1', 1, 2, 3, 4, 5, 6, 7, 8, 9, 10]\n",
      "eggs1\n",
      "['eggs1', 1, 2, 3, 4, 5, 6, 7, 8, 9, 10]\n",
      "[1, 2, 3, 4, 5, 6, 7, 8, 9, 10]\n",
      "1\n",
      "[1, 2, 3, 4, 5, 6, 7, 8, 9, 10]\n",
      "[2, 3, 4, 5, 6, 7, 8, 9, 10]\n",
      "2\n",
      "[2, 3, 4, 5, 6, 7, 8, 9, 10]\n",
      "[3, 4, 5, 6, 7, 8, 9, 10]\n",
      "3\n",
      "[3, 4, 5, 6, 7, 8, 9, 10]\n",
      "[4, 5, 6, 7, 8, 9, 10]\n",
      "4\n",
      "[4, 5, 6, 7, 8, 9, 10]\n",
      "[5, 6, 7, 8, 9, 10]\n",
      "5\n",
      "[5, 6, 7, 8, 9, 10]\n",
      "[6, 7, 8, 9, 10]\n",
      "6\n",
      "[6, 7, 8, 9, 10]\n",
      "[7, 8, 9, 10]\n",
      "7\n",
      "[7, 8, 9, 10]\n",
      "[8, 9, 10]\n",
      "8\n",
      "[8, 9, 10]\n",
      "[9, 10]\n",
      "9\n",
      "[9, 10]\n",
      "[10]\n",
      "10\n",
      "[10]\n",
      "[]\n"
     ]
    }
   ],
   "source": [
    "dict_ = {'spam': 'eggs', 'spam1': 'eggs1'}\n",
    "list_ = ['spam', 'eggs', 'spam1', 'eggs1', 1, 2, 3, 4, 5, 6, 7, 8, 9, 10]\n",
    "set_ = {'spam', 'eggs'}\n",
    "\n",
    "for item in list_:\n",
    "    print item\n",
    "    print list_\n",
    "    list_.remove(item)\n",
    "    print list_\n",
    "    \n",
    "list_ = ['spam', 'eggs', 'spam1', 'eggs1', 1, 2, 3, 4, 5, 6, 7, 8, 9, 10]\n",
    "\n",
    "for item in list(list_):\n",
    "    print item\n",
    "    print list_\n",
    "    list_.remove(item)\n",
    "    print list_\n"
   ]
  }
 ],
 "metadata": {
  "kernelspec": {
   "display_name": "Python 2",
   "language": "python",
   "name": "python2"
  },
  "language_info": {
   "codemirror_mode": {
    "name": "ipython",
    "version": 2
   },
   "file_extension": ".py",
   "mimetype": "text/x-python",
   "name": "python",
   "nbconvert_exporter": "python",
   "pygments_lexer": "ipython2",
   "version": "2.7.11"
  }
 },
 "nbformat": 4,
 "nbformat_minor": 0
}
