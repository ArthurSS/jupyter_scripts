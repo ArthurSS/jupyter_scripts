{
 "cells": [
  {
   "cell_type": "code",
   "execution_count": 8,
   "metadata": {
    "collapsed": false
   },
   "outputs": [
    {
     "name": "stdout",
     "output_type": "stream",
     "text": [
      "['', 'C:\\\\WINDOWS\\\\SYSTEM32\\\\python27.zip', 'd:\\\\python27\\\\DLLs', 'd:\\\\python27\\\\lib', 'd:\\\\python27\\\\lib\\\\plat-win', 'd:\\\\python27\\\\lib\\\\lib-tk', 'd:\\\\python27', 'd:\\\\python27\\\\lib\\\\site-packages', 'd:\\\\python27\\\\lib\\\\site-packages\\\\IPython\\\\extensions', 'C:\\\\Users\\\\Administrator\\\\.ipython']\n"
     ]
    }
   ],
   "source": [
    "#encoding: utf-8\n",
    "\n",
    "import sys\n",
    "\n",
    "print(sys.path)\n",
    "#print(sys.modules)"
   ]
  }
 ],
 "metadata": {
  "kernelspec": {
   "display_name": "Python 2",
   "language": "python",
   "name": "python2"
  },
  "language_info": {
   "codemirror_mode": {
    "name": "ipython",
    "version": 2
   },
   "file_extension": ".py",
   "mimetype": "text/x-python",
   "name": "python",
   "nbconvert_exporter": "python",
   "pygments_lexer": "ipython2",
   "version": "2.7.11"
  }
 },
 "nbformat": 4,
 "nbformat_minor": 2
}
