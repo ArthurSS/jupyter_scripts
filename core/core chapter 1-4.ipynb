{
 "cells": [
  {
   "cell_type": "code",
   "execution_count": 23,
   "metadata": {},
   "outputs": [
    {
     "name": "stdout",
     "output_type": "stream",
     "text": [
      "2\n",
      "1.1\n",
      "True\n",
      "True\n",
      "(1, 2, [1, 1, 1])\n",
      "(0, 'a')\n",
      "(1, 'b')\n",
      "(2, 'c')\n"
     ]
    }
   ],
   "source": [
    "#encoding: utf-8\n",
    "#Chapter 1\n",
    "\n",
    "#2.6\n",
    "import decimal\n",
    "print(1+True)\n",
    "print(decimal.Decimal('1.1'))\n",
    "print(1.1>decimal.Decimal('1.1'))\n",
    "print(1.1 == 1.1000000000000001)\n",
    "\n",
    "#2.8 list and tuple\n",
    "a = (1,2,[1,1])\n",
    "a[2].append(1)\n",
    "print(a)\n",
    "\n",
    "#2.13 for and range()\n",
    "a = 'abc'\n",
    "for i, ch in enumerate(a):\n",
    "    print(i, ch)\n"
   ]
  },
  {
   "cell_type": "code",
   "execution_count": 27,
   "metadata": {},
   "outputs": [
    {
     "name": "stdout",
     "output_type": "stream",
     "text": [
      "1 1\n"
     ]
    }
   ],
   "source": [
    "#encoding: utf-8\n",
    "#Chapter 3\n",
    "x = 3.14\n",
    "a = [1, x, 2]\n",
    "x = 5\n",
    "a = 1\n",
    "b = a\n",
    "c = a\n",
    "del(a)\n",
    "print b, c"
   ]
  },
  {
   "cell_type": "code",
   "execution_count": 39,
   "metadata": {},
   "outputs": [
    {
     "name": "stdout",
     "output_type": "stream",
     "text": [
      "False\n",
      "<type 'slice'>\n",
      "<type 'type'>\n",
      "<type 'type'>\n"
     ]
    }
   ],
   "source": [
    "#encoding: utf-8\n",
    "#Chapter 4\n",
    "#4.5 compare\n",
    "print({}==[])\n",
    "a = slice(1)\n",
    "print(type(a))\n",
    "print(type(type(a)))\n",
    "print(type(type(type(a))))"
   ]
  }
 ],
 "metadata": {
  "kernelspec": {
   "display_name": "Python 2",
   "language": "python",
   "name": "python2"
  },
  "language_info": {
   "codemirror_mode": {
    "name": "ipython",
    "version": 2
   },
   "file_extension": ".py",
   "mimetype": "text/x-python",
   "name": "python",
   "nbconvert_exporter": "python",
   "pygments_lexer": "ipython2",
   "version": "2.7.13"
  }
 },
 "nbformat": 4,
 "nbformat_minor": 2
}
