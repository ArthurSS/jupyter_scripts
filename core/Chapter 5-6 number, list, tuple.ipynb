{
 "cells": [
  {
   "cell_type": "code",
   "execution_count": 65,
   "metadata": {
    "collapsed": false
   },
   "outputs": [
    {
     "name": "stdout",
     "output_type": "stream",
     "text": [
      "abcde\n",
      "abcd\n",
      "abc\n",
      "ab\n",
      "a\n",
      "<type 'str'>\n",
      "<type 'unicode'>\n",
      "this is a game.\n",
      "Hello\\nWorld!\n",
      "df\n",
      "王\n",
      "<type 'unicode'>\n",
      "29579\n",
      "071613\n",
      "['A', 'T', 'a', 'b', 's']\n",
      "a\n",
      "cmp([[]], [{}]): 1\n",
      "cmp([[1,2,3]], ['s']): -1\n",
      "\"[[1, 2, 3], 's', 'a']\"\n",
      "tuple(('adf','df')): (adf, df)\n",
      "list(('adf','df')): ['adf', 'df']\n"
     ]
    }
   ],
   "source": [
    "#encoding:utf-8\n",
    "#Chapter 6 string, list and tuple\n",
    "s = 'abcde'\n",
    "for i in [None] + range(-1, -len(s), -1):\n",
    "    print(s[:i])\n",
    "\n",
    "print(type(\"这是中文\"))\n",
    "print(type(unicode(\"???\")))\n",
    "\n",
    "s = ('this is '\n",
    "    'a '\n",
    "    'game.')\n",
    "print(s)\n",
    "\n",
    "#6.4.4\n",
    "print(ur'Hello\\nWorld!')\n",
    "u'abc'\n",
    "\n",
    "print(max(['zbas', 'zdf'], 'df','a'))\n",
    "\n",
    "print(unichr(29579))\n",
    "print(type(unichr(29579)))\n",
    "print(ord(u'王'))\n",
    "print(oct(ord(u'王')))\n",
    "\n",
    "#6.13\n",
    "print(sorted(['a', 'b','A','s','T']))\n",
    "print(max([11111111, 'a']))\n",
    "print('cmp([[]], [{}]): %d' % cmp([[]], [{}]))\n",
    "print('cmp([[1,2,3]], [\\'s\\']): %d' % cmp([[1,2,3]], ['s']))\n",
    "print(repr(str([[1,2,3],'s','a'])))\n",
    "#6.16\n",
    "print(\"tuple(('adf','df')): (%s, %s)\" % tuple(('adf','df')))\n",
    "print(\"list(('adf','df')): %s\" % list(('adf','df')))\n"
   ]
  },
  {
   "cell_type": "code",
   "execution_count": 81,
   "metadata": {
    "collapsed": false
   },
   "outputs": [
    {
     "name": "stdout",
     "output_type": "stream",
     "text": [
      "[70065328, 70081192, 70080552]\n",
      "[(49816736, 70079472, 69335328, 69855936), (49816736, 70079472, 69335328, 69855936), (49816736, 70079472, 69335328, 69855936)]\n",
      "(['joe', ['saving', 100.0]], ['jane', ['saving', 100.0]])\n",
      "[(49816736, 70079472, 69335328, 69855936), (70219248, 70079472, 69335328, 69855936), (69335296, 70079472, 69335328, 69855936)]\n",
      "(['joe', ['man name', 50.0]], ['jane', ['man name', 50.0]])\n",
      "[(49816736, 70079472, 69334336, 69855760), (70219248, 70079472, 69334336, 69855760), (69335296, 70079472, 69334336, 69855760)]\n"
     ]
    }
   ],
   "source": [
    "#Chapter 6\n",
    "#deep copy vs qian copy\n",
    "person = ['name', ['saving', 100.00]]\n",
    "hubby = person[:]\n",
    "wifey = list(person)\n",
    "print([id(x) for x in (person, hubby, wifey)])\n",
    "print([(id(x[0]), id(x[1]), id(x[1][0]), id(x[1][1])) for x in (person, hubby, wifey)])\n",
    "#修改名字，不会相互影响\n",
    "hubby[0] = 'joe'\n",
    "wifey[0] = 'jane'\n",
    "print(hubby, wifey)\n",
    "print([(id(x[0]), id(x[1]), id(x[1][0]), id(x[1][1])) for x in (person, hubby, wifey)])\n",
    "#修改账户信息list，发生相互影响\n",
    "hubby[1][1] = 50.00\n",
    "hubby[1][0] = 'man name'\n",
    "print(hubby, wifey)\n",
    "print([(id(x[0]), id(x[1]), id(x[1][0]), id(x[1][1])) for x in (person, hubby, wifey)])"
   ]
  }
 ],
 "metadata": {
  "kernelspec": {
   "display_name": "Python 2",
   "language": "python",
   "name": "python2"
  },
  "language_info": {
   "codemirror_mode": {
    "name": "ipython",
    "version": 2
   },
   "file_extension": ".py",
   "mimetype": "text/x-python",
   "name": "python",
   "nbconvert_exporter": "python",
   "pygments_lexer": "ipython2",
   "version": "2.7.11"
  }
 },
 "nbformat": 4,
 "nbformat_minor": 2
}
