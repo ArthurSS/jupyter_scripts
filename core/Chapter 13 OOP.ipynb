{
 "cells": [
  {
   "cell_type": "code",
   "execution_count": 35,
   "metadata": {
    "collapsed": false
   },
   "outputs": [
    {
     "name": "stdout",
     "output_type": "stream",
     "text": [
      "<function foo at 0x046FB6F0>\n",
      "<function foo at 0x046FB6F0>\n",
      "<bound method type.foo of <class '__main__.TestClassMethod'>>\n",
      "<bound method type.foo of <class '__main__.TestClassMethod'>>\n"
     ]
    }
   ],
   "source": [
    "#encoding: utf-8\n",
    "#static method and class method\n",
    "class TestStaticMethod(object):\n",
    "    @staticmethod\n",
    "    def foo():\n",
    "        print 'calling static method foo()'\n",
    "\n",
    "#只有class才有__name__属性，返回类名称的str格式\n",
    "#实例没有__name__属性\n",
    "class TestClassMethod(object):\n",
    "    @classmethod\n",
    "    def foo(cls):\n",
    "        print 'Calling class method foo()'\n",
    "        print 'foo() is part of class: %s' % cls.__name__\n",
    "    \n",
    "test1 = TestStaticMethod()\n",
    "test2 = TestClassMethod()\n",
    "\n",
    "print(TestStaticMethod.foo)\n",
    "print(test1.foo)\n",
    "\n",
    "print(TestClassMethod.foo)\n",
    "print(test2.foo)"
   ]
  },
  {
   "cell_type": "code",
   "execution_count": 33,
   "metadata": {
    "collapsed": false
   },
   "outputs": [
    {
     "name": "stdout",
     "output_type": "stream",
     "text": [
      "<unbound method D.f>\n",
      "<unbound method D.f>\n",
      "<bound method D.f of <__main__.D object at 0x046EAA90>>\n",
      "<bound method D.f of <__main__.D object at 0x046EAA90>>\n"
     ]
    }
   ],
   "source": [
    "#encoding:utf-8\n",
    "#bound and unbound method\n",
    "class D(object):\n",
    "    def f(self, x):\n",
    "        return x\n",
    "d = D()\n",
    "print(D.f) #D.f返回未绑定的方法，method只能通过实例调用，D.()会出错，class method & static method除外\n",
    "print(D.f.__get__(None, type(d))) #使用class调用f时，__get__中传入的是None，返回的是unbound method(此处存疑)\n",
    "\n",
    "print(D.f.__get__(d, type(d))) # 存储成一个function\n",
    "print(d.f) #只有用实例去调用的时候，才会把实例传入__get__中，返回的是bound method"
   ]
  },
  {
   "cell_type": "code",
   "execution_count": 23,
   "metadata": {
    "collapsed": false
   },
   "outputs": [
    {
     "name": "stdout",
     "output_type": "stream",
     "text": [
      "Setting 'var1' to [foo]... accepted\n",
      "Setting 'var2' to [foo]... accepted\n",
      "Accessing [foo]... accepted\n",
      "var1\n"
     ]
    }
   ],
   "source": [
    "#encoding:utf-8\n",
    "#descriptor\n",
    "class DevNull3(object):\n",
    "    def __init__(self, name='foo'):\n",
    "        self.name = name\n",
    "    #返回实例obj的name，不会发生互相干扰\n",
    "    def __get__(self, obj, type=None):\n",
    "        print('Accessing [%s]... accepted' % self.name)\n",
    "        return obj.name\n",
    "    def __set__(self, obj, val):\n",
    "        print('Setting %r to [%s]... accepted' % (val, self.name))\n",
    "        obj.name = val\n",
    "\n",
    "class C3(object):\n",
    "    foo = DevNull3()\n",
    "\n",
    "#返回实例obj的属性，不会发生互相干扰\n",
    "c1 = C3()\n",
    "c2 = C3()\n",
    "c3 = C3()\n",
    "c1.foo = 'var1'\n",
    "c2.foo = 'var2'\n",
    "print(c1.foo)"
   ]
  },
  {
   "cell_type": "code",
   "execution_count": 20,
   "metadata": {
    "collapsed": false
   },
   "outputs": [
    {
     "name": "stdout",
     "output_type": "stream",
     "text": [
      "1\n",
      "1\n",
      "2\n"
     ]
    }
   ],
   "source": [
    "#encoding:utf-8\n",
    "#descriptor: property\n",
    "#测试不通，唔知点解\n",
    "class Property(object):\n",
    "    \"Emulate PyProperty_Type() in Objects/descrobject.c\"\n",
    "\n",
    "    def __init__(self, fget=None, fset=None, fdel=None, doc=None):\n",
    "        self.fget = fget\n",
    "        self.fset = fset\n",
    "        self.fdel = fdel\n",
    "        self.__doc__ = doc\n",
    "\n",
    "    def __get__(self, obj, objtype=None):\n",
    "        if obj is None:\n",
    "            return self\n",
    "        if self.fget is None:\n",
    "            raise AttributeError, \"unreadable attribute\"\n",
    "        return self.fget(obj)\n",
    "\n",
    "    def __set__(self, obj, value):\n",
    "        if self.fset is None:\n",
    "            raise AttributeError, \"can't set attribute\"\n",
    "        self.fset(obj, value)\n",
    "\n",
    "    def __delete__(self, obj):\n",
    "        if self.fdel is None:\n",
    "            raise AttributeError, \"can't delete attribute\"\n",
    "        self.fdel(obj)\n",
    "\n",
    "    def getter(self, fget):\n",
    "        return type(self)(fget, self.fset, self.fdel, self.__doc__)\n",
    "\n",
    "    def setter(self, fset):\n",
    "        return type(self)(self.fget, fset, self.fdel, self.__doc__)\n",
    "\n",
    "    def deleter(self, fdel):\n",
    "        return type(self)(self.fget, self.fset, fdel, self.__doc__)\n",
    "\n",
    "class C(object):\n",
    "    def getx(self): return self.__x\n",
    "    def setx(self, value): self.__x = value\n",
    "    def delx(self): del self.__x\n",
    "    x = Property(getx, setx, delx, \"I'm the 'x' property.\")\n",
    "\n",
    "c1 = C()\n",
    "c2 = C()\n",
    "\n",
    "c1.x = 1\n",
    "print(c1.x)\n",
    "\n",
    "c2.x = 2\n",
    "print(c1.x)\n",
    "print(c2.x)"
   ]
  },
  {
   "cell_type": "code",
   "execution_count": 38,
   "metadata": {
    "collapsed": false
   },
   "outputs": [
    {
     "name": "stdout",
     "output_type": "stream",
     "text": [
      "this is a method\n"
     ]
    }
   ],
   "source": [
    "#encoding:utf-8\n",
    "class A(object):\n",
    "    b = 1\n",
    "    def bb(self):\n",
    "        print('this is a method')\n",
    "\n",
    "a = A()\n",
    "a.bb()"
   ]
  }
 ],
 "metadata": {
  "kernelspec": {
   "display_name": "Python 2",
   "language": "python",
   "name": "python2"
  },
  "language_info": {
   "codemirror_mode": {
    "name": "ipython",
    "version": 2
   },
   "file_extension": ".py",
   "mimetype": "text/x-python",
   "name": "python",
   "nbconvert_exporter": "python",
   "pygments_lexer": "ipython2",
   "version": "2.7.11"
  }
 },
 "nbformat": 4,
 "nbformat_minor": 2
}
